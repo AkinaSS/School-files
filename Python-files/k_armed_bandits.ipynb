{
 "cells": [
  {
   "cell_type": "code",
   "execution_count": 352,
   "id": "74cef28c-8e59-4a14-8b39-32ddf26f5c12",
   "metadata": {},
   "outputs": [
    {
     "name": "stdout",
     "output_type": "stream",
     "text": [
      "0.8658110542222023\n",
      "-1.0949939119241356\n",
      "-1.1519767594746277\n",
      "-0.972732424125347\n",
      "-0.054027155162347705\n",
      "-0.657578937201482\n",
      "-0.437741086291172\n",
      "-0.8045594989047559\n",
      "1.1846315554176914\n",
      "0.6485344781956984\n"
     ]
    }
   ],
   "source": [
    "import random\n",
    "import numpy as np\n",
    "import pandas as pd\n",
    "import matplotlib.pyplot as plt\n",
    "\n",
    "e = 0.1\n",
    "steps = 3000\n",
    "ave_reward = 0\n",
    "\n",
    "estimated_values = []\n",
    "for _ in range(10):\n",
    "    estimated_values.append(random.gauss(0, 1))\n",
    "\n",
    "bandits = []\n",
    "#i is needed to index the estimated_values list\n",
    "for i in range(10):\n",
    "    bandits.append([i, random.gauss(0, 1), 1])\n",
    "\n",
    "counts = []\n",
    "for _ in range(10):\n",
    "    counts.append(1)\n",
    "\n",
    "df = pd.DataFrame(columns=['steps', 'ave_value'])\n",
    "print(*estimated_values, sep='\\n')"
   ]
  },
  {
   "cell_type": "code",
   "execution_count": 354,
   "id": "338cbc13-2951-40db-bc58-ce18e174b79d",
   "metadata": {},
   "outputs": [],
   "source": [
    "\n",
    "for i in range(steps):\n",
    "    rand_num = random.randint(0, 100)\n",
    "    #epsilon-greedy\n",
    "    if rand_num <= 10: \n",
    "        #choose a random bandit from the list\n",
    "        rand_bandit = random.choice(bandits)\n",
    "        #the reward obtained from pulling that lever\n",
    "        reward = random.gauss(rand_bandit[1], 1)\n",
    "        #the index of the bandit that is tied to estimated_values list\n",
    "        index = rand_bandit[0]\n",
    "        #new_bandit is the updated estimated value of that lever\n",
    "        new_est = estimated_values[index] + (1/rand_bandit[2])*(reward - estimated_values[index])\n",
    "        #actually update the value for that lever's estimate (index)\n",
    "        estimated_values[index] = new_est\n",
    "        #increment counter for given bandit\n",
    "        rand_bandit[2] += 1\n",
    "        ave_reward = ((ave_reward * (i + 1)) + reward)/(i + 2)\n",
    "        df.loc[i] = [i, ave_reward]\n",
    "    else:\n",
    "        bandit_means = []\n",
    "        for mean in bandits:\n",
    "            bandit_means.append(mean[1])\n",
    "            \n",
    "        # argmax returns an INDEX\n",
    "        #index is the index of the largest bandit\n",
    "        index = np.argmax(bandit_means)\n",
    "        reward = random.gauss(bandits[index][1], 1)\n",
    "        # index = bandit[0]\n",
    "        new_est = estimated_values[index] + (1/bandits[index][2])*(reward - estimated_values[index])\n",
    "        estimated_values[index] = new_est\n",
    "        bandits[index][2] += 1\n",
    "        ave_reward = ((ave_reward * (i + 1)) + reward)/(i + 2)\n",
    "        df.loc[i] = [i, ave_reward]"
   ]
  },
  {
   "cell_type": "code",
   "execution_count": 355,
   "id": "69579136-4da0-4886-ac02-01de18deea16",
   "metadata": {
    "scrolled": true
   },
   "outputs": [
    {
     "name": "stdout",
     "output_type": "stream",
     "text": [
      "-0.6264055632827461\n",
      "-1.1969038002231378\n",
      "-0.021841640238917708\n",
      "0.45870719687467754\n",
      "1.0186697374014657\n",
      "-0.4207778276434384\n",
      "-0.3529303474825386\n",
      "-1.2665777433574135\n",
      "1.938421392295314\n",
      "-1.2591436563900438\n"
     ]
    }
   ],
   "source": [
    "print(*estimated_values, sep='\\n')"
   ]
  },
  {
   "cell_type": "code",
   "execution_count": 366,
   "id": "905f813f-3f56-4425-93a4-056739b5445c",
   "metadata": {},
   "outputs": [
    {
     "name": "stdout",
     "output_type": "stream",
     "text": [
      "-0.17287822520467785\n"
     ]
    }
   ],
   "source": [
    "est_ave = 0\n",
    "for est in estimated_values:\n",
    "    est_ave += est\n",
    "\n",
    "est_ave = est_ave/10\n",
    "print(est_ave)"
   ]
  },
  {
   "cell_type": "code",
   "execution_count": 356,
   "id": "e7337fc3-d9d7-488e-9b36-a6c874971ff2",
   "metadata": {},
   "outputs": [
    {
     "name": "stdout",
     "output_type": "stream",
     "text": [
      "[0, -0.5874959376889591, 34]\n",
      "[1, -1.2085557768590043, 33]\n",
      "[2, -0.18131007823245437, 29]\n",
      "[3, 0.21967845517970264, 39]\n",
      "[4, 1.2382600532356585, 38]\n",
      "[5, -0.5186265590833847, 34]\n",
      "[6, -0.21920928273062937, 37]\n",
      "[7, -1.2298642387558076, 36]\n",
      "[8, 1.8937258028468822, 2701]\n",
      "[9, -1.167348242150591, 29]\n"
     ]
    }
   ],
   "source": [
    "print(*bandits, sep='\\n')"
   ]
  },
  {
   "cell_type": "code",
   "execution_count": 362,
   "id": "2e5983c6-a0a1-4e49-8d17-acf7e405cc64",
   "metadata": {},
   "outputs": [
    {
     "name": "stdout",
     "output_type": "stream",
     "text": [
      "-0.1760745804238587\n"
     ]
    }
   ],
   "source": [
    "true_ave = 0\n",
    "for bandit in bandits:\n",
    "    true_ave += bandit[1]\n",
    "\n",
    "true_ave = true_ave/10\n",
    "print(true_ave)"
   ]
  },
  {
   "cell_type": "code",
   "execution_count": 368,
   "id": "c4b4b266-ef73-4ec3-8898-e120eeca5116",
   "metadata": {},
   "outputs": [
    {
     "data": {
      "text/plain": [
       "[<matplotlib.lines.Line2D at 0x1d90685d040>]"
      ]
     },
     "execution_count": 368,
     "metadata": {},
     "output_type": "execute_result"
    },
    {
     "data": {
      "image/png": "[encoded data removed]",
      "text/plain": [
       "<Figure size 640x480 with 1 Axes>"
      ]
     },
     "metadata": {},
     "output_type": "display_data"
    }
   ],
   "source": [
    "plt.plot(df['steps'], df['ave_value'])"
   ]
  },
  {
   "cell_type": "code",
   "execution_count": null,
   "id": "07473c7c-791c-4100-914c-9a1aba16d0f3",
   "metadata": {},
   "outputs": [],
   "source": []
  }
 ],
 "metadata": {
  "kernelspec": {
   "display_name": "Python [conda env:base] *",
   "language": "python",
   "name": "conda-base-py"
  },
  "language_info": {
   "codemirror_mode": {
    "name": "ipython",
    "version": 3
   },
   "file_extension": ".py",
   "mimetype": "text/x-python",
   "name": "python",
   "nbconvert_exporter": "python",
   "pygments_lexer": "ipython3",
   "version": "3.12.7"
  }
 },
 "nbformat": 4,
 "nbformat_minor": 5
}
