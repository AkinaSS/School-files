{
 "cells": [
  {
   "cell_type": "code",
   "execution_count": 7,
   "metadata": {},
   "outputs": [
    {
     "data": {
      "text/plain": [
       "'\\nThe MIT License (MIT)\\nCopyright (c) 2021 NVIDIA\\nPermission is hereby granted, free of charge, to any person obtaining a copy of\\nthis software and associated documentation files (the \"Software\"), to deal in\\nthe Software without restriction, including without limitation the rights to\\nuse, copy, modify, merge, publish, distribute, sublicense, and/or sell copies of\\nthe Software, and to permit persons to whom the Software is furnished to do so,\\nsubject to the following conditions:\\nThe above copyright notice and this permission notice shall be included in all\\ncopies or substantial portions of the Software.\\nTHE SOFTWARE IS PROVIDED \"AS IS\", WITHOUT WARRANTY OF ANY KIND, EXPRESS OR\\nIMPLIED, INCLUDING BUT NOT LIMITED TO THE WARRANTIES OF MERCHANTABILITY, FITNESS\\nFOR A PARTICULAR PURPOSE AND NONINFRINGEMENT. IN NO EVENT SHALL THE AUTHORS OR\\nCOPYRIGHT HOLDERS BE LIABLE FOR ANY CLAIM, DAMAGES OR OTHER LIABILITY, WHETHER\\nIN AN ACTION OF CONTRACT, TORT OR OTHERWISE, ARISING FROM, OUT OF OR IN\\nCONNECTION WITH THE SOFTWARE OR THE USE OR OTHER DEALINGS IN THE SOFTWARE.\\n'"
      ]
     },
     "execution_count": 7,
     "metadata": {},
     "output_type": "execute_result"
    }
   ],
   "source": [
    "\"\"\"\n",
    "The MIT License (MIT)\n",
    "Copyright (c) 2021 NVIDIA\n",
    "Permission is hereby granted, free of charge, to any person obtaining a copy of\n",
    "this software and associated documentation files (the \"Software\"), to deal in\n",
    "the Software without restriction, including without limitation the rights to\n",
    "use, copy, modify, merge, publish, distribute, sublicense, and/or sell copies of\n",
    "the Software, and to permit persons to whom the Software is furnished to do so,\n",
    "subject to the following conditions:\n",
    "The above copyright notice and this permission notice shall be included in all\n",
    "copies or substantial portions of the Software.\n",
    "THE SOFTWARE IS PROVIDED \"AS IS\", WITHOUT WARRANTY OF ANY KIND, EXPRESS OR\n",
    "IMPLIED, INCLUDING BUT NOT LIMITED TO THE WARRANTIES OF MERCHANTABILITY, FITNESS\n",
    "FOR A PARTICULAR PURPOSE AND NONINFRINGEMENT. IN NO EVENT SHALL THE AUTHORS OR\n",
    "COPYRIGHT HOLDERS BE LIABLE FOR ANY CLAIM, DAMAGES OR OTHER LIABILITY, WHETHER\n",
    "IN AN ACTION OF CONTRACT, TORT OR OTHERWISE, ARISING FROM, OUT OF OR IN\n",
    "CONNECTION WITH THE SOFTWARE OR THE USE OR OTHER DEALINGS IN THE SOFTWARE.\n",
    "\"\"\"\n"
   ]
  },
  {
   "cell_type": "markdown",
   "metadata": {},
   "source": [
    "This code example contains a TensorFlow implementation of a network classifying handwritten digits. More context for this code example can be found in the section \"Programming Example: Moving to a DL Framework\" in Chapter 5 in the book Learning Deep Learning by Magnus Ekman (ISBN: 9780137470358).\n"
   ]
  },
  {
   "cell_type": "markdown",
   "metadata": {},
   "source": [
    "The first code snippet contains initialization code for our TensorFlow example. TensorFlow has its own random seed that needs to be set if we want reproducible results. The code snippet also sets the logging level to only print out errors while suppressing warnings.\n"
   ]
  },
  {
   "cell_type": "code",
   "execution_count": 8,
   "metadata": {},
   "outputs": [],
   "source": [
    "import tensorflow as tf\n",
    "from tensorflow import keras\n",
    "import numpy as np\n",
    "import logging\n",
    "tf.get_logger().setLevel(logging.ERROR)\n",
    "tf.random.set_seed(7)\n",
    "\n",
    "EPOCHS = 20\n",
    "BATCH_SIZE = 1\n"
   ]
  },
  {
   "cell_type": "markdown",
   "metadata": {},
   "source": [
    "We then load and prepare our MNIST dataset. Because MNIST is a common dataset, it is included in Keras. We can access it by a call to keras.datasets.mnist and load_data. The variables train_images and test_images will contain the input values, and the variables train_labels and test_labels will contain the ground truth.\n",
    "\n",
    "We standardize the input data and one-hot encode the labels. We use the function to_categorical to one-hot encode our labels.\n"
   ]
  },
  {
   "cell_type": "code",
   "execution_count": 9,
   "metadata": {},
   "outputs": [],
   "source": [
    "# Load training and test datasets.\n",
    "mnist = keras.datasets.mnist\n",
    "(train_images, train_labels), (test_images,\n",
    "                               test_labels) = mnist.load_data()\n",
    "\n",
    "# Standardize the data.\n",
    "mean = np.mean(train_images)\n",
    "stddev = np.std(train_images)\n",
    "train_images = (train_images - mean) / stddev\n",
    "test_images = (test_images - mean) / stddev\n",
    "\n",
    "# One-hot encode labels.\n",
    "train_labels = tf.keras.utils.to_categorical(train_labels, num_classes=10)\n",
    "test_labels = tf.keras.utils.to_categorical(test_labels, num_classes=10)\n"
   ]
  },
  {
   "cell_type": "markdown",
   "metadata": {},
   "source": [
    "We are now ready to create our network. There is no need to define variables for individual neurons because the framework provides functionality to instantiate entire layers of neurons at once. We do need to decide how to initialize the weights, which we do by creating an initializer object, as shown in the code snippet below.\n",
    "\n",
    "The network is created by instantiating a keras.Sequential object, which implies that we are using the Keras Sequential API. We pass a list of layers as an argument to the Sequential class. The first layer is a Flatten layer, which does not do computations but only changes the organization of the input. In our case, the inputs are changed from a 28×28 array into an array of 784 elements. The second and third layers are both Dense layers, which means they are fully connected. The first argument tells how many neurons each layer should have, and the activation argument tells the type of activation function; we choose tanh and sigmoid, where sigmoid means the logistic sigmoid function. We pass our initializer object to initialize the regular weights using the kernel_initializer argument. The bias weights are initialized to 0 using the bias_initializer argument.\n"
   ]
  },
  {
   "cell_type": "code",
   "execution_count": 10,
   "metadata": {},
   "outputs": [],
   "source": [
    "# Object used to initialize weights.\n",
    "initializer = keras.initializers.RandomUniform(\n",
    "    minval=-0.1, maxval=0.1)\n",
    "\n",
    "# Create a Sequential model.\n",
    "# 784 inputs.\n",
    "# Two Dense (fully connected) layers with 25 and 10 neurons.\n",
    "# tanh as activation function for hidden layer.\n",
    "# Logistic (sigmoid) as activation function for output layer.\n",
    "model = keras.Sequential([\n",
    "    keras.Input(shape=(28, 28)),\n",
    "    keras.layers.Flatten(),\n",
    "    keras.layers.Dense(25, activation='tanh',\n",
    "                       kernel_initializer=initializer,\n",
    "                       bias_initializer='zeros'),\n",
    "    keras.layers.Dense(10, activation='sigmoid',\n",
    "                       kernel_initializer=initializer,\n",
    "                       bias_initializer='zeros')])\n"
   ]
  },
  {
   "cell_type": "markdown",
   "metadata": {},
   "source": [
    "We are now ready to train the network, which is done in the next code snippet. We first create a keras.optimizer.SGD object. This means that we want to use stochastic gradient descent (SGD) when training the network. We then prepare the model for training by calling the model’s compile function. We provide parameters to specify which loss function to use, the optimizer that we just created and that we are interested in looking at the accuracy metric during training. Note that although this example uses mean squared error (MSE) as loss function, in general that is not a good choice in combination with sigmoid output neurons. We change this in subsequent programming examples.\n",
    "\n",
    "We finally call the fit function for the model, which starts the training process. As the function name indicates, it fits the model to the data. The first two arguments specify the training dataset. The parameter validation_data is the test dataset. Our variables EPOCHS and BATCH_SIZE from the initialization code determine how many epochs to train for and what batch size we use. We had set BATCH_SIZE to 1, which means that we update the weight after a single training example. We set verbose=2 to get a reasonable amount of information printed during the training process and set shuffle to True to indicate that we want the order of the training data to be randomized during the training process.\n"
   ]
  },
  {
   "cell_type": "code",
   "execution_count": 11,
   "metadata": {},
   "outputs": [
    {
     "name": "stdout",
     "output_type": "stream",
     "text": [
      "Epoch 1/20\n",
      "60000/60000 - 92s - 2ms/step - accuracy: 0.6818 - loss: 0.0523 - val_accuracy: 0.8843 - val_loss: 0.0265\n",
      "Epoch 2/20\n",
      "60000/60000 - 95s - 2ms/step - accuracy: 0.8970 - loss: 0.0213 - val_accuracy: 0.9129 - val_loss: 0.0171\n",
      "Epoch 3/20\n",
      "60000/60000 - 91s - 2ms/step - accuracy: 0.9139 - loss: 0.0163 - val_accuracy: 0.9210 - val_loss: 0.0147\n",
      "Epoch 4/20\n",
      "60000/60000 - 97s - 2ms/step - accuracy: 0.9220 - loss: 0.0143 - val_accuracy: 0.9258 - val_loss: 0.0135\n",
      "Epoch 5/20\n",
      "60000/60000 - 113s - 2ms/step - accuracy: 0.9279 - loss: 0.0131 - val_accuracy: 0.9283 - val_loss: 0.0127\n",
      "Epoch 6/20\n",
      "60000/60000 - 113s - 2ms/step - accuracy: 0.9325 - loss: 0.0123 - val_accuracy: 0.9318 - val_loss: 0.0122\n",
      "Epoch 7/20\n",
      "60000/60000 - 121s - 2ms/step - accuracy: 0.9354 - loss: 0.0117 - val_accuracy: 0.9331 - val_loss: 0.0118\n",
      "Epoch 8/20\n",
      "60000/60000 - 155s - 3ms/step - accuracy: 0.9374 - loss: 0.0112 - val_accuracy: 0.9347 - val_loss: 0.0114\n",
      "Epoch 9/20\n",
      "60000/60000 - 118s - 2ms/step - accuracy: 0.9395 - loss: 0.0108 - val_accuracy: 0.9361 - val_loss: 0.0112\n",
      "Epoch 10/20\n",
      "60000/60000 - 100s - 2ms/step - accuracy: 0.9412 - loss: 0.0105 - val_accuracy: 0.9373 - val_loss: 0.0110\n",
      "Epoch 11/20\n",
      "60000/60000 - 113s - 2ms/step - accuracy: 0.9425 - loss: 0.0102 - val_accuracy: 0.9376 - val_loss: 0.0108\n",
      "Epoch 12/20\n",
      "60000/60000 - 130s - 2ms/step - accuracy: 0.9439 - loss: 0.0100 - val_accuracy: 0.9381 - val_loss: 0.0106\n",
      "Epoch 13/20\n",
      "60000/60000 - 129s - 2ms/step - accuracy: 0.9451 - loss: 0.0098 - val_accuracy: 0.9387 - val_loss: 0.0105\n",
      "Epoch 14/20\n",
      "60000/60000 - 110s - 2ms/step - accuracy: 0.9464 - loss: 0.0096 - val_accuracy: 0.9395 - val_loss: 0.0104\n",
      "Epoch 15/20\n",
      "60000/60000 - 108s - 2ms/step - accuracy: 0.9471 - loss: 0.0094 - val_accuracy: 0.9401 - val_loss: 0.0103\n",
      "Epoch 16/20\n",
      "60000/60000 - 105s - 2ms/step - accuracy: 0.9482 - loss: 0.0092 - val_accuracy: 0.9402 - val_loss: 0.0102\n",
      "Epoch 17/20\n",
      "60000/60000 - 105s - 2ms/step - accuracy: 0.9491 - loss: 0.0091 - val_accuracy: 0.9402 - val_loss: 0.0101\n",
      "Epoch 18/20\n",
      "60000/60000 - 105s - 2ms/step - accuracy: 0.9499 - loss: 0.0089 - val_accuracy: 0.9412 - val_loss: 0.0100\n",
      "Epoch 19/20\n",
      "60000/60000 - 115s - 2ms/step - accuracy: 0.9508 - loss: 0.0088 - val_accuracy: 0.9421 - val_loss: 0.0100\n",
      "Epoch 20/20\n",
      "60000/60000 - 107s - 2ms/step - accuracy: 0.9515 - loss: 0.0087 - val_accuracy: 0.9420 - val_loss: 0.0099\n"
     ]
    }
   ],
   "source": [
    "# Use stochastic gradient descent (SGD) with\n",
    "# learning rate of 0.01 and no other bells and whistles.\n",
    "# MSE as loss function and report accuracy during training.\n",
    "opt = keras.optimizers.SGD(learning_rate=0.01)\n",
    "\n",
    "model.compile(loss='mean_squared_error', optimizer = opt,\n",
    "              metrics =['accuracy'])\n",
    "# Train the model for 20 epochs.\n",
    "# Shuffle (randomize) order.\n",
    "# Update weights after each example (batch_size=1).\n",
    "history = model.fit(train_images, train_labels,\n",
    "                    validation_data=(test_images, test_labels),\n",
    "                    epochs=EPOCHS, batch_size=BATCH_SIZE,\n",
    "                    verbose=2, shuffle=True)\n"
   ]
  },
  {
   "cell_type": "code",
   "execution_count": 12,
   "metadata": {},
   "outputs": [
    {
     "name": "stdout",
     "output_type": "stream",
     "text": [
      "Layer flatten_1 weights: []\n",
      "Layer dense_2 weights: [array([[-0.04879995,  0.05071982,  0.08944532, ...,  0.02019448,\n",
      "         0.09369911,  0.01680577],\n",
      "       [-0.06937489,  0.03233072,  0.08902451, ...,  0.04866061,\n",
      "         0.06444109, -0.08481268],\n",
      "       [-0.01939826, -0.09509788,  0.08041075, ...,  0.00807217,\n",
      "        -0.00140592, -0.04549386],\n",
      "       ...,\n",
      "       [-0.01195349,  0.0428523 ,  0.02897083, ...,  0.0907828 ,\n",
      "         0.06256381, -0.01002471],\n",
      "       [ 0.06158471, -0.05697683, -0.07755513, ..., -0.00878629,\n",
      "        -0.01322818,  0.06299234],\n",
      "       [ 0.01108663,  0.05439279, -0.06664084, ...,  0.03151964,\n",
      "         0.00591381, -0.07674877]], dtype=float32), array([-0.03187623,  0.0754785 ,  0.00443556,  0.00191455, -0.03197959,\n",
      "       -0.03437322,  0.03473634,  0.05742152, -0.03315804, -0.03419941,\n",
      "        0.03941157, -0.05200905, -0.01916082, -0.05670231,  0.02863979,\n",
      "       -0.0380764 ,  0.01268715, -0.01543063,  0.01409442, -0.05839602,\n",
      "       -0.04289501,  0.05712678,  0.01165746, -0.03426305,  0.02977726],\n",
      "      dtype=float32)]\n",
      "Layer dense_3 weights: [array([[ 0.4592333 ,  0.31000704,  0.5714873 ,  0.63232595,  0.614528  ,\n",
      "         0.5344348 ,  0.47552228,  0.318809  ,  0.93031794,  0.70557594],\n",
      "       [-0.3178021 , -1.5855302 ,  0.42766374, -0.28078368, -0.514048  ,\n",
      "        -0.32278055, -0.08641402,  0.23170355,  0.6130827 , -0.5096295 ],\n",
      "       [-0.8411132 , -0.63673013,  1.7200254 ,  0.81369376, -0.36234996,\n",
      "        -0.5673086 , -1.2641428 ,  1.0549532 ,  0.9800839 , -1.0712166 ],\n",
      "       [-0.5655804 ,  0.54976857,  0.5633838 , -1.0883248 , -0.586568  ,\n",
      "        -0.4201678 ,  0.38946453,  1.131008  , -0.6575228 , -0.80131257],\n",
      "       [ 0.4733438 ,  0.3128393 ,  0.5212654 ,  0.6679678 ,  0.50021756,\n",
      "         0.4823556 ,  0.42939582,  0.23516253,  0.8714878 ,  0.54380226],\n",
      "       [ 0.5129089 ,  0.16643806,  0.55814546,  0.61720437,  0.7250446 ,\n",
      "         0.4882998 ,  0.5376197 ,  0.23878226,  0.8511829 ,  0.67415035],\n",
      "       [-0.04691511, -0.05181208, -0.2980796 , -0.04139911, -0.37316102,\n",
      "        -0.19047527, -0.31027928, -1.8048865 , -0.37218204,  1.365958  ],\n",
      "       [ 0.09689692, -1.165189  ,  0.6112405 ,  0.7030861 ,  0.47126618,\n",
      "        -1.2099713 ,  0.20476826, -0.8238315 ,  0.40961328,  0.6339391 ],\n",
      "       [ 0.45760602,  0.3089352 ,  0.41867316,  0.6214425 ,  0.6272804 ,\n",
      "         0.5757222 ,  0.4958669 ,  0.29868463,  0.81355554,  0.70174605],\n",
      "       [ 0.57184184,  0.2856612 ,  0.36084002,  0.48080635,  0.61764354,\n",
      "         0.4064506 ,  0.5147254 ,  0.23174077,  0.8828736 ,  0.62356746],\n",
      "       [-0.484447  , -0.23698136, -0.50994   , -0.47957662, -0.6389017 ,\n",
      "        -0.43527052, -0.5255995 , -0.19177933, -0.8634038 , -0.6651744 ],\n",
      "       [ 1.7405097 ,  0.08433868,  0.66727334, -0.71430385,  0.15930156,\n",
      "        -1.2258844 , -0.2975577 , -0.1684358 ,  0.08740562,  0.5426316 ],\n",
      "       [ 0.7230728 ,  0.36937925,  0.8359256 ,  1.6642307 , -0.55938745,\n",
      "        -1.0096    , -1.0683204 ,  0.26362914, -1.4195468 , -0.587584  ],\n",
      "       [-0.4399932 , -0.712523  ,  0.3063367 ,  0.01073166,  1.9483756 ,\n",
      "         0.18716347,  1.3103975 , -0.2720154 , -0.87147856, -1.6398553 ],\n",
      "       [-0.5820248 , -0.29669207, -0.605231  , -0.64158297, -0.55307245,\n",
      "        -0.5421111 , -0.6416783 , -0.17353524, -0.9677787 , -0.6304374 ],\n",
      "       [-0.02057519, -0.43673593, -0.27039814, -0.05160619, -1.4061083 ,\n",
      "        -0.15867998, -0.0483294 ,  0.9824204 , -0.41875836,  1.5283281 ],\n",
      "       [-0.628484  ,  0.06404962, -0.01084761,  1.4694288 ,  0.23000962,\n",
      "        -2.0106125 ,  0.30483   , -0.18093726,  0.85945463,  0.45919913],\n",
      "       [-0.54551864,  0.60057145,  0.72648853,  0.03689502,  1.0503923 ,\n",
      "        -0.7670044 , -0.97774905,  0.2441557 , -0.9023128 ,  0.23099229],\n",
      "       [ 0.65708154, -0.8456674 ,  0.68778473, -1.7544414 ,  0.15654968,\n",
      "        -1.2452377 ,  0.13996212,  0.75625634,  1.8180946 , -0.6566118 ],\n",
      "       [ 0.12025382,  1.4263215 , -0.30541477, -0.5216872 , -0.00922399,\n",
      "        -0.8117478 ,  0.47177914, -0.24782546,  0.79692477,  0.3664194 ],\n",
      "       [-1.2495409 ,  1.0227913 ,  1.0179145 , -0.4598673 , -1.3473754 ,\n",
      "        -0.33240676,  1.6994658 , -0.64955986, -0.6842233 , -0.13769801],\n",
      "       [ 0.17889066,  0.4567301 ,  0.45480454,  0.7465516 , -1.2156663 ,\n",
      "         0.78789645,  0.16354322, -1.225829  ,  1.4954858 , -1.5557555 ],\n",
      "       [-1.043364  ,  0.24553779,  0.90532166, -0.60466343,  0.62609917,\n",
      "         0.5897408 , -0.7281001 , -0.99201083,  0.78063816,  1.0973814 ],\n",
      "       [ 0.5668266 ,  0.32114938,  0.49454132,  0.56351537,  0.5685152 ,\n",
      "         0.45042995,  0.50833344,  0.28654334,  0.82376087,  0.64400816],\n",
      "       [-0.9169692 ,  0.52746546, -1.7442671 ,  0.6371853 , -0.16049199,\n",
      "         0.45356068, -0.9911249 ,  0.58279145,  0.97406   , -0.35134584]],\n",
      "      dtype=float32), array([-0.59781826, -0.2784525 , -0.541422  , -0.59029645, -0.63221353,\n",
      "       -0.53194404, -0.5658466 , -0.272021  , -0.9310313 , -0.7055347 ],\n",
      "      dtype=float32)]\n"
     ]
    }
   ],
   "source": [
    "# Print weights for each layer\n",
    "for layer in model.layers:\n",
    "    weights = layer.get_weights()\n",
    "    print(f\"Layer {layer.name} weights: {weights}\")\n"
   ]
  }
 ],
 "metadata": {
  "kernelspec": {
   "display_name": "Python 3",
   "language": "python",
   "name": "python3"
  },
  "language_info": {
   "codemirror_mode": {
    "name": "ipython",
    "version": 3
   },
   "file_extension": ".py",
   "mimetype": "text/x-python",
   "name": "python",
   "nbconvert_exporter": "python",
   "pygments_lexer": "ipython3",
   "version": "3.10.12"
  }
 },
 "nbformat": 4,
 "nbformat_minor": 2
}
