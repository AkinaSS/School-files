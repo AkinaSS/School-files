{
 "cells": [
  {
   "cell_type": "code",
   "execution_count": 1,
   "metadata": {},
   "outputs": [
    {
     "data": {
      "text/plain": [
       "'\\nThe MIT License (MIT)\\nCopyright (c) 2021 NVIDIA\\nPermission is hereby granted, free of charge, to any person obtaining a copy of\\nthis software and associated documentation files (the \"Software\"), to deal in\\nthe Software without restriction, including without limitation the rights to\\nuse, copy, modify, merge, publish, distribute, sublicense, and/or sell copies of\\nthe Software, and to permit persons to whom the Software is furnished to do so,\\nsubject to the following conditions:\\nThe above copyright notice and this permission notice shall be included in all\\ncopies or substantial portions of the Software.\\nTHE SOFTWARE IS PROVIDED \"AS IS\", WITHOUT WARRANTY OF ANY KIND, EXPRESS OR\\nIMPLIED, INCLUDING BUT NOT LIMITED TO THE WARRANTIES OF MERCHANTABILITY, FITNESS\\nFOR A PARTICULAR PURPOSE AND NONINFRINGEMENT. IN NO EVENT SHALL THE AUTHORS OR\\nCOPYRIGHT HOLDERS BE LIABLE FOR ANY CLAIM, DAMAGES OR OTHER LIABILITY, WHETHER\\nIN AN ACTION OF CONTRACT, TORT OR OTHERWISE, ARISING FROM, OUT OF OR IN\\nCONNECTION WITH THE SOFTWARE OR THE USE OR OTHER DEALINGS IN THE SOFTWARE.\\n'"
      ]
     },
     "execution_count": 1,
     "metadata": {},
     "output_type": "execute_result"
    }
   ],
   "source": [
    "\"\"\"\n",
    "The MIT License (MIT)\n",
    "Copyright (c) 2021 NVIDIA\n",
    "Permission is hereby granted, free of charge, to any person obtaining a copy of\n",
    "this software and associated documentation files (the \"Software\"), to deal in\n",
    "the Software without restriction, including without limitation the rights to\n",
    "use, copy, modify, merge, publish, distribute, sublicense, and/or sell copies of\n",
    "the Software, and to permit persons to whom the Software is furnished to do so,\n",
    "subject to the following conditions:\n",
    "The above copyright notice and this permission notice shall be included in all\n",
    "copies or substantial portions of the Software.\n",
    "THE SOFTWARE IS PROVIDED \"AS IS\", WITHOUT WARRANTY OF ANY KIND, EXPRESS OR\n",
    "IMPLIED, INCLUDING BUT NOT LIMITED TO THE WARRANTIES OF MERCHANTABILITY, FITNESS\n",
    "FOR A PARTICULAR PURPOSE AND NONINFRINGEMENT. IN NO EVENT SHALL THE AUTHORS OR\n",
    "COPYRIGHT HOLDERS BE LIABLE FOR ANY CLAIM, DAMAGES OR OTHER LIABILITY, WHETHER\n",
    "IN AN ACTION OF CONTRACT, TORT OR OTHERWISE, ARISING FROM, OUT OF OR IN\n",
    "CONNECTION WITH THE SOFTWARE OR THE USE OR OTHER DEALINGS IN THE SOFTWARE.\n",
    "\"\"\"\n"
   ]
  },
  {
   "cell_type": "markdown",
   "metadata": {},
   "source": [
    "This code example is very similar to c7e2_convnet_cifar but the network is modified to use a more complex network. More context for this code example can be found in the section \"Programming Example: Image Classification with a Convolutional Network\" in Chapter 7 in the book Learning Deep Learning by Magnus Ekman (ISBN: 9780137470358)."
   ]
  },
  {
   "cell_type": "code",
   "execution_count": 2,
   "metadata": {},
   "outputs": [
    {
     "name": "stderr",
     "output_type": "stream",
     "text": [
      "2025-06-12 19:16:59.352369: I tensorflow/core/util/port.cc:153] oneDNN custom operations are on. You may see slightly different numerical results due to floating-point round-off errors from different computation orders. To turn them off, set the environment variable `TF_ENABLE_ONEDNN_OPTS=0`.\n",
      "2025-06-12 19:16:59.400934: I external/local_xla/xla/tsl/cuda/cudart_stub.cc:32] Could not find cuda drivers on your machine, GPU will not be used.\n",
      "2025-06-12 19:16:59.541460: I external/local_xla/xla/tsl/cuda/cudart_stub.cc:32] Could not find cuda drivers on your machine, GPU will not be used.\n",
      "2025-06-12 19:16:59.672927: E external/local_xla/xla/stream_executor/cuda/cuda_fft.cc:467] Unable to register cuFFT factory: Attempting to register factory for plugin cuFFT when one has already been registered\n",
      "WARNING: All log messages before absl::InitializeLog() is called are written to STDERR\n",
      "E0000 00:00:1749781019.744434 2213845 cuda_dnn.cc:8579] Unable to register cuDNN factory: Attempting to register factory for plugin cuDNN when one has already been registered\n",
      "E0000 00:00:1749781019.760527 2213845 cuda_blas.cc:1407] Unable to register cuBLAS factory: Attempting to register factory for plugin cuBLAS when one has already been registered\n",
      "W0000 00:00:1749781019.969998 2213845 computation_placer.cc:177] computation placer already registered. Please check linkage and avoid linking the same target more than once.\n",
      "W0000 00:00:1749781019.970045 2213845 computation_placer.cc:177] computation placer already registered. Please check linkage and avoid linking the same target more than once.\n",
      "W0000 00:00:1749781019.970047 2213845 computation_placer.cc:177] computation placer already registered. Please check linkage and avoid linking the same target more than once.\n",
      "W0000 00:00:1749781019.970048 2213845 computation_placer.cc:177] computation placer already registered. Please check linkage and avoid linking the same target more than once.\n",
      "2025-06-12 19:16:59.997320: I tensorflow/core/platform/cpu_feature_guard.cc:210] This TensorFlow binary is optimized to use available CPU instructions in performance-critical operations.\n",
      "To enable the following instructions: AVX2 AVX512F AVX512_VNNI FMA, in other operations, rebuild TensorFlow with the appropriate compiler flags.\n"
     ]
    },
    {
     "name": "stdout",
     "output_type": "stream",
     "text": [
      "Num GPUs Available:  0\n"
     ]
    },
    {
     "name": "stderr",
     "output_type": "stream",
     "text": [
      "2025-06-12 19:17:06.687702: E external/local_xla/xla/stream_executor/cuda/cuda_platform.cc:51] failed call to cuInit: INTERNAL: CUDA error: Failed call to cuInit: UNKNOWN ERROR (303)\n"
     ]
    }
   ],
   "source": [
    "import tensorflow as tf\n",
    "from tensorflow import keras\n",
    "from keras.utils import to_categorical\n",
    "from keras.models import Sequential\n",
    "from keras.layers import Dense\n",
    "from keras.layers import Flatten\n",
    "from keras.layers import Conv2D\n",
    "from keras.layers import Dropout\n",
    "from keras.layers import MaxPooling2D\n",
    "import numpy as np\n",
    "import logging\n",
    "tf.get_logger().setLevel(logging.ERROR)\n",
    "\n",
    "print(\"Num GPUs Available: \", len(tf.config.experimental.list_physical_devices('GPU')))"
   ]
  },
  {
   "cell_type": "code",
   "execution_count": 3,
   "metadata": {},
   "outputs": [
    {
     "name": "stdout",
     "output_type": "stream",
     "text": [
      "Python version: 3.10.12 (main, Feb  4 2025, 14:57:36) [GCC 11.4.0]\n",
      "Numba version: 0.61.2\n",
      "Numpy version: 1.26.4\n"
     ]
    }
   ],
   "source": [
    "import sys\n",
    "import numba \n",
    "import numpy\n",
    "\n",
    "print(\"Python version:\", sys.version)\n",
    "print(\"Numba version:\", numba.__version__)\n",
    "print(\"Numpy version:\", numpy.__version__)"
   ]
  },
  {
   "cell_type": "code",
   "execution_count": 4,
   "metadata": {},
   "outputs": [
    {
     "name": "stdout",
     "output_type": "stream",
     "text": [
      "mean:  120.70756512369792\n",
      "stddev:  64.1500758911213\n"
     ]
    }
   ],
   "source": [
    "EPOCHS = 128\n",
    "BATCH_SIZE = 32\n",
    "\n",
    "# Load dataset.\n",
    "cifar_dataset = keras.datasets.cifar10\n",
    "(train_images, train_labels), (test_images,\n",
    "                    test_labels) = cifar_dataset.load_data()\n",
    "\n",
    "# Standardize dataset.\n",
    "mean = np.mean(train_images)\n",
    "stddev = np.std(train_images)\n",
    "train_images = (train_images - mean) / stddev \n",
    "test_images = (test_images - mean) / stddev \n",
    "print('mean: ', mean)\n",
    "print('stddev: ', stddev)\n",
    "\n",
    "# Change labels to one-hot.\n",
    "train_labels = to_categorical(train_labels, \n",
    "                              num_classes=10)\n",
    "test_labels = to_categorical(test_labels, \n",
    "                             num_classes=10)"
   ]
  },
  {
   "cell_type": "code",
   "execution_count": 5,
   "metadata": {},
   "outputs": [
    {
     "data": {
      "text/html": [
       "<pre style=\"white-space:pre;overflow-x:auto;line-height:normal;font-family:Menlo,'DejaVu Sans Mono',consolas,'Courier New',monospace\"><span style=\"font-weight: bold\">Model: \"sequential\"</span>\n",
       "</pre>\n"
      ],
      "text/plain": [
       "\u001b[1mModel: \"sequential\"\u001b[0m\n"
      ]
     },
     "metadata": {},
     "output_type": "display_data"
    },
    {
     "data": {
      "text/html": [
       "<pre style=\"white-space:pre;overflow-x:auto;line-height:normal;font-family:Menlo,'DejaVu Sans Mono',consolas,'Courier New',monospace\">┏━━━━━━━━━━━━━━━━━━━━━━━━━━━━━━━━━┳━━━━━━━━━━━━━━━━━━━━━━━━┳━━━━━━━━━━━━━━━┓\n",
       "┃<span style=\"font-weight: bold\"> Layer (type)                    </span>┃<span style=\"font-weight: bold\"> Output Shape           </span>┃<span style=\"font-weight: bold\">       Param # </span>┃\n",
       "┡━━━━━━━━━━━━━━━━━━━━━━━━━━━━━━━━━╇━━━━━━━━━━━━━━━━━━━━━━━━╇━━━━━━━━━━━━━━━┩\n",
       "│ conv2d (<span style=\"color: #0087ff; text-decoration-color: #0087ff\">Conv2D</span>)                 │ (<span style=\"color: #00d7ff; text-decoration-color: #00d7ff\">None</span>, <span style=\"color: #00af00; text-decoration-color: #00af00\">32</span>, <span style=\"color: #00af00; text-decoration-color: #00af00\">32</span>, <span style=\"color: #00af00; text-decoration-color: #00af00\">64</span>)     │         <span style=\"color: #00af00; text-decoration-color: #00af00\">3,136</span> │\n",
       "├─────────────────────────────────┼────────────────────────┼───────────────┤\n",
       "│ dropout (<span style=\"color: #0087ff; text-decoration-color: #0087ff\">Dropout</span>)               │ (<span style=\"color: #00d7ff; text-decoration-color: #00d7ff\">None</span>, <span style=\"color: #00af00; text-decoration-color: #00af00\">32</span>, <span style=\"color: #00af00; text-decoration-color: #00af00\">32</span>, <span style=\"color: #00af00; text-decoration-color: #00af00\">64</span>)     │             <span style=\"color: #00af00; text-decoration-color: #00af00\">0</span> │\n",
       "├─────────────────────────────────┼────────────────────────┼───────────────┤\n",
       "│ conv2d_1 (<span style=\"color: #0087ff; text-decoration-color: #0087ff\">Conv2D</span>)               │ (<span style=\"color: #00d7ff; text-decoration-color: #00d7ff\">None</span>, <span style=\"color: #00af00; text-decoration-color: #00af00\">16</span>, <span style=\"color: #00af00; text-decoration-color: #00af00\">16</span>, <span style=\"color: #00af00; text-decoration-color: #00af00\">64</span>)     │        <span style=\"color: #00af00; text-decoration-color: #00af00\">16,448</span> │\n",
       "├─────────────────────────────────┼────────────────────────┼───────────────┤\n",
       "│ dropout_1 (<span style=\"color: #0087ff; text-decoration-color: #0087ff\">Dropout</span>)             │ (<span style=\"color: #00d7ff; text-decoration-color: #00d7ff\">None</span>, <span style=\"color: #00af00; text-decoration-color: #00af00\">16</span>, <span style=\"color: #00af00; text-decoration-color: #00af00\">16</span>, <span style=\"color: #00af00; text-decoration-color: #00af00\">64</span>)     │             <span style=\"color: #00af00; text-decoration-color: #00af00\">0</span> │\n",
       "├─────────────────────────────────┼────────────────────────┼───────────────┤\n",
       "│ conv2d_2 (<span style=\"color: #0087ff; text-decoration-color: #0087ff\">Conv2D</span>)               │ (<span style=\"color: #00d7ff; text-decoration-color: #00d7ff\">None</span>, <span style=\"color: #00af00; text-decoration-color: #00af00\">16</span>, <span style=\"color: #00af00; text-decoration-color: #00af00\">16</span>, <span style=\"color: #00af00; text-decoration-color: #00af00\">32</span>)     │        <span style=\"color: #00af00; text-decoration-color: #00af00\">18,464</span> │\n",
       "├─────────────────────────────────┼────────────────────────┼───────────────┤\n",
       "│ dropout_2 (<span style=\"color: #0087ff; text-decoration-color: #0087ff\">Dropout</span>)             │ (<span style=\"color: #00d7ff; text-decoration-color: #00d7ff\">None</span>, <span style=\"color: #00af00; text-decoration-color: #00af00\">16</span>, <span style=\"color: #00af00; text-decoration-color: #00af00\">16</span>, <span style=\"color: #00af00; text-decoration-color: #00af00\">32</span>)     │             <span style=\"color: #00af00; text-decoration-color: #00af00\">0</span> │\n",
       "├─────────────────────────────────┼────────────────────────┼───────────────┤\n",
       "│ conv2d_3 (<span style=\"color: #0087ff; text-decoration-color: #0087ff\">Conv2D</span>)               │ (<span style=\"color: #00d7ff; text-decoration-color: #00d7ff\">None</span>, <span style=\"color: #00af00; text-decoration-color: #00af00\">16</span>, <span style=\"color: #00af00; text-decoration-color: #00af00\">16</span>, <span style=\"color: #00af00; text-decoration-color: #00af00\">32</span>)     │         <span style=\"color: #00af00; text-decoration-color: #00af00\">9,248</span> │\n",
       "├─────────────────────────────────┼────────────────────────┼───────────────┤\n",
       "│ max_pooling2d (<span style=\"color: #0087ff; text-decoration-color: #0087ff\">MaxPooling2D</span>)    │ (<span style=\"color: #00d7ff; text-decoration-color: #00d7ff\">None</span>, <span style=\"color: #00af00; text-decoration-color: #00af00\">8</span>, <span style=\"color: #00af00; text-decoration-color: #00af00\">8</span>, <span style=\"color: #00af00; text-decoration-color: #00af00\">32</span>)       │             <span style=\"color: #00af00; text-decoration-color: #00af00\">0</span> │\n",
       "├─────────────────────────────────┼────────────────────────┼───────────────┤\n",
       "│ dropout_3 (<span style=\"color: #0087ff; text-decoration-color: #0087ff\">Dropout</span>)             │ (<span style=\"color: #00d7ff; text-decoration-color: #00d7ff\">None</span>, <span style=\"color: #00af00; text-decoration-color: #00af00\">8</span>, <span style=\"color: #00af00; text-decoration-color: #00af00\">8</span>, <span style=\"color: #00af00; text-decoration-color: #00af00\">32</span>)       │             <span style=\"color: #00af00; text-decoration-color: #00af00\">0</span> │\n",
       "├─────────────────────────────────┼────────────────────────┼───────────────┤\n",
       "│ flatten (<span style=\"color: #0087ff; text-decoration-color: #0087ff\">Flatten</span>)               │ (<span style=\"color: #00d7ff; text-decoration-color: #00d7ff\">None</span>, <span style=\"color: #00af00; text-decoration-color: #00af00\">2048</span>)           │             <span style=\"color: #00af00; text-decoration-color: #00af00\">0</span> │\n",
       "├─────────────────────────────────┼────────────────────────┼───────────────┤\n",
       "│ dense (<span style=\"color: #0087ff; text-decoration-color: #0087ff\">Dense</span>)                   │ (<span style=\"color: #00d7ff; text-decoration-color: #00d7ff\">None</span>, <span style=\"color: #00af00; text-decoration-color: #00af00\">64</span>)             │       <span style=\"color: #00af00; text-decoration-color: #00af00\">131,136</span> │\n",
       "├─────────────────────────────────┼────────────────────────┼───────────────┤\n",
       "│ dropout_4 (<span style=\"color: #0087ff; text-decoration-color: #0087ff\">Dropout</span>)             │ (<span style=\"color: #00d7ff; text-decoration-color: #00d7ff\">None</span>, <span style=\"color: #00af00; text-decoration-color: #00af00\">64</span>)             │             <span style=\"color: #00af00; text-decoration-color: #00af00\">0</span> │\n",
       "├─────────────────────────────────┼────────────────────────┼───────────────┤\n",
       "│ dense_1 (<span style=\"color: #0087ff; text-decoration-color: #0087ff\">Dense</span>)                 │ (<span style=\"color: #00d7ff; text-decoration-color: #00d7ff\">None</span>, <span style=\"color: #00af00; text-decoration-color: #00af00\">64</span>)             │         <span style=\"color: #00af00; text-decoration-color: #00af00\">4,160</span> │\n",
       "├─────────────────────────────────┼────────────────────────┼───────────────┤\n",
       "│ dropout_5 (<span style=\"color: #0087ff; text-decoration-color: #0087ff\">Dropout</span>)             │ (<span style=\"color: #00d7ff; text-decoration-color: #00d7ff\">None</span>, <span style=\"color: #00af00; text-decoration-color: #00af00\">64</span>)             │             <span style=\"color: #00af00; text-decoration-color: #00af00\">0</span> │\n",
       "├─────────────────────────────────┼────────────────────────┼───────────────┤\n",
       "│ dense_2 (<span style=\"color: #0087ff; text-decoration-color: #0087ff\">Dense</span>)                 │ (<span style=\"color: #00d7ff; text-decoration-color: #00d7ff\">None</span>, <span style=\"color: #00af00; text-decoration-color: #00af00\">10</span>)             │           <span style=\"color: #00af00; text-decoration-color: #00af00\">650</span> │\n",
       "└─────────────────────────────────┴────────────────────────┴───────────────┘\n",
       "</pre>\n"
      ],
      "text/plain": [
       "┏━━━━━━━━━━━━━━━━━━━━━━━━━━━━━━━━━┳━━━━━━━━━━━━━━━━━━━━━━━━┳━━━━━━━━━━━━━━━┓\n",
       "┃\u001b[1m \u001b[0m\u001b[1mLayer (type)                   \u001b[0m\u001b[1m \u001b[0m┃\u001b[1m \u001b[0m\u001b[1mOutput Shape          \u001b[0m\u001b[1m \u001b[0m┃\u001b[1m \u001b[0m\u001b[1m      Param #\u001b[0m\u001b[1m \u001b[0m┃\n",
       "┡━━━━━━━━━━━━━━━━━━━━━━━━━━━━━━━━━╇━━━━━━━━━━━━━━━━━━━━━━━━╇━━━━━━━━━━━━━━━┩\n",
       "│ conv2d (\u001b[38;5;33mConv2D\u001b[0m)                 │ (\u001b[38;5;45mNone\u001b[0m, \u001b[38;5;34m32\u001b[0m, \u001b[38;5;34m32\u001b[0m, \u001b[38;5;34m64\u001b[0m)     │         \u001b[38;5;34m3,136\u001b[0m │\n",
       "├─────────────────────────────────┼────────────────────────┼───────────────┤\n",
       "│ dropout (\u001b[38;5;33mDropout\u001b[0m)               │ (\u001b[38;5;45mNone\u001b[0m, \u001b[38;5;34m32\u001b[0m, \u001b[38;5;34m32\u001b[0m, \u001b[38;5;34m64\u001b[0m)     │             \u001b[38;5;34m0\u001b[0m │\n",
       "├─────────────────────────────────┼────────────────────────┼───────────────┤\n",
       "│ conv2d_1 (\u001b[38;5;33mConv2D\u001b[0m)               │ (\u001b[38;5;45mNone\u001b[0m, \u001b[38;5;34m16\u001b[0m, \u001b[38;5;34m16\u001b[0m, \u001b[38;5;34m64\u001b[0m)     │        \u001b[38;5;34m16,448\u001b[0m │\n",
       "├─────────────────────────────────┼────────────────────────┼───────────────┤\n",
       "│ dropout_1 (\u001b[38;5;33mDropout\u001b[0m)             │ (\u001b[38;5;45mNone\u001b[0m, \u001b[38;5;34m16\u001b[0m, \u001b[38;5;34m16\u001b[0m, \u001b[38;5;34m64\u001b[0m)     │             \u001b[38;5;34m0\u001b[0m │\n",
       "├─────────────────────────────────┼────────────────────────┼───────────────┤\n",
       "│ conv2d_2 (\u001b[38;5;33mConv2D\u001b[0m)               │ (\u001b[38;5;45mNone\u001b[0m, \u001b[38;5;34m16\u001b[0m, \u001b[38;5;34m16\u001b[0m, \u001b[38;5;34m32\u001b[0m)     │        \u001b[38;5;34m18,464\u001b[0m │\n",
       "├─────────────────────────────────┼────────────────────────┼───────────────┤\n",
       "│ dropout_2 (\u001b[38;5;33mDropout\u001b[0m)             │ (\u001b[38;5;45mNone\u001b[0m, \u001b[38;5;34m16\u001b[0m, \u001b[38;5;34m16\u001b[0m, \u001b[38;5;34m32\u001b[0m)     │             \u001b[38;5;34m0\u001b[0m │\n",
       "├─────────────────────────────────┼────────────────────────┼───────────────┤\n",
       "│ conv2d_3 (\u001b[38;5;33mConv2D\u001b[0m)               │ (\u001b[38;5;45mNone\u001b[0m, \u001b[38;5;34m16\u001b[0m, \u001b[38;5;34m16\u001b[0m, \u001b[38;5;34m32\u001b[0m)     │         \u001b[38;5;34m9,248\u001b[0m │\n",
       "├─────────────────────────────────┼────────────────────────┼───────────────┤\n",
       "│ max_pooling2d (\u001b[38;5;33mMaxPooling2D\u001b[0m)    │ (\u001b[38;5;45mNone\u001b[0m, \u001b[38;5;34m8\u001b[0m, \u001b[38;5;34m8\u001b[0m, \u001b[38;5;34m32\u001b[0m)       │             \u001b[38;5;34m0\u001b[0m │\n",
       "├─────────────────────────────────┼────────────────────────┼───────────────┤\n",
       "│ dropout_3 (\u001b[38;5;33mDropout\u001b[0m)             │ (\u001b[38;5;45mNone\u001b[0m, \u001b[38;5;34m8\u001b[0m, \u001b[38;5;34m8\u001b[0m, \u001b[38;5;34m32\u001b[0m)       │             \u001b[38;5;34m0\u001b[0m │\n",
       "├─────────────────────────────────┼────────────────────────┼───────────────┤\n",
       "│ flatten (\u001b[38;5;33mFlatten\u001b[0m)               │ (\u001b[38;5;45mNone\u001b[0m, \u001b[38;5;34m2048\u001b[0m)           │             \u001b[38;5;34m0\u001b[0m │\n",
       "├─────────────────────────────────┼────────────────────────┼───────────────┤\n",
       "│ dense (\u001b[38;5;33mDense\u001b[0m)                   │ (\u001b[38;5;45mNone\u001b[0m, \u001b[38;5;34m64\u001b[0m)             │       \u001b[38;5;34m131,136\u001b[0m │\n",
       "├─────────────────────────────────┼────────────────────────┼───────────────┤\n",
       "│ dropout_4 (\u001b[38;5;33mDropout\u001b[0m)             │ (\u001b[38;5;45mNone\u001b[0m, \u001b[38;5;34m64\u001b[0m)             │             \u001b[38;5;34m0\u001b[0m │\n",
       "├─────────────────────────────────┼────────────────────────┼───────────────┤\n",
       "│ dense_1 (\u001b[38;5;33mDense\u001b[0m)                 │ (\u001b[38;5;45mNone\u001b[0m, \u001b[38;5;34m64\u001b[0m)             │         \u001b[38;5;34m4,160\u001b[0m │\n",
       "├─────────────────────────────────┼────────────────────────┼───────────────┤\n",
       "│ dropout_5 (\u001b[38;5;33mDropout\u001b[0m)             │ (\u001b[38;5;45mNone\u001b[0m, \u001b[38;5;34m64\u001b[0m)             │             \u001b[38;5;34m0\u001b[0m │\n",
       "├─────────────────────────────────┼────────────────────────┼───────────────┤\n",
       "│ dense_2 (\u001b[38;5;33mDense\u001b[0m)                 │ (\u001b[38;5;45mNone\u001b[0m, \u001b[38;5;34m10\u001b[0m)             │           \u001b[38;5;34m650\u001b[0m │\n",
       "└─────────────────────────────────┴────────────────────────┴───────────────┘\n"
      ]
     },
     "metadata": {},
     "output_type": "display_data"
    },
    {
     "data": {
      "text/html": [
       "<pre style=\"white-space:pre;overflow-x:auto;line-height:normal;font-family:Menlo,'DejaVu Sans Mono',consolas,'Courier New',monospace\"><span style=\"font-weight: bold\"> Total params: </span><span style=\"color: #00af00; text-decoration-color: #00af00\">183,242</span> (715.79 KB)\n",
       "</pre>\n"
      ],
      "text/plain": [
       "\u001b[1m Total params: \u001b[0m\u001b[38;5;34m183,242\u001b[0m (715.79 KB)\n"
      ]
     },
     "metadata": {},
     "output_type": "display_data"
    },
    {
     "data": {
      "text/html": [
       "<pre style=\"white-space:pre;overflow-x:auto;line-height:normal;font-family:Menlo,'DejaVu Sans Mono',consolas,'Courier New',monospace\"><span style=\"font-weight: bold\"> Trainable params: </span><span style=\"color: #00af00; text-decoration-color: #00af00\">183,242</span> (715.79 KB)\n",
       "</pre>\n"
      ],
      "text/plain": [
       "\u001b[1m Trainable params: \u001b[0m\u001b[38;5;34m183,242\u001b[0m (715.79 KB)\n"
      ]
     },
     "metadata": {},
     "output_type": "display_data"
    },
    {
     "data": {
      "text/html": [
       "<pre style=\"white-space:pre;overflow-x:auto;line-height:normal;font-family:Menlo,'DejaVu Sans Mono',consolas,'Courier New',monospace\"><span style=\"font-weight: bold\"> Non-trainable params: </span><span style=\"color: #00af00; text-decoration-color: #00af00\">0</span> (0.00 B)\n",
       "</pre>\n"
      ],
      "text/plain": [
       "\u001b[1m Non-trainable params: \u001b[0m\u001b[38;5;34m0\u001b[0m (0.00 B)\n"
      ]
     },
     "metadata": {},
     "output_type": "display_data"
    },
    {
     "name": "stdout",
     "output_type": "stream",
     "text": [
      "Epoch 1/128\n",
      "1563/1563 - 98s - 63ms/step - accuracy: 0.3805 - loss: 1.6852 - val_accuracy: 0.5306 - val_loss: 1.3011\n",
      "Epoch 2/128\n",
      "1563/1563 - 106s - 68ms/step - accuracy: 0.5161 - loss: 1.3411 - val_accuracy: 0.5971 - val_loss: 1.1482\n",
      "Epoch 3/128\n",
      "1563/1563 - 101s - 64ms/step - accuracy: 0.5690 - loss: 1.2050 - val_accuracy: 0.6368 - val_loss: 1.0446\n",
      "Epoch 4/128\n",
      "1563/1563 - 89s - 57ms/step - accuracy: 0.6079 - loss: 1.1144 - val_accuracy: 0.6566 - val_loss: 0.9879\n",
      "Epoch 5/128\n",
      "1563/1563 - 88s - 57ms/step - accuracy: 0.6262 - loss: 1.0649 - val_accuracy: 0.6775 - val_loss: 0.9307\n",
      "Epoch 6/128\n",
      "1563/1563 - 91s - 58ms/step - accuracy: 0.6459 - loss: 1.0122 - val_accuracy: 0.6887 - val_loss: 0.9120\n",
      "Epoch 7/128\n",
      "1563/1563 - 96s - 61ms/step - accuracy: 0.6571 - loss: 0.9832 - val_accuracy: 0.6969 - val_loss: 0.8963\n",
      "Epoch 8/128\n",
      "1563/1563 - 94s - 60ms/step - accuracy: 0.6660 - loss: 0.9617 - val_accuracy: 0.6913 - val_loss: 0.8851\n",
      "Epoch 9/128\n",
      "1563/1563 - 88s - 56ms/step - accuracy: 0.6758 - loss: 0.9312 - val_accuracy: 0.7113 - val_loss: 0.8581\n",
      "Epoch 10/128\n",
      "1563/1563 - 79s - 50ms/step - accuracy: 0.6828 - loss: 0.9140 - val_accuracy: 0.7129 - val_loss: 0.8454\n",
      "Epoch 11/128\n",
      "1563/1563 - 87s - 56ms/step - accuracy: 0.6893 - loss: 0.8963 - val_accuracy: 0.7108 - val_loss: 0.8456\n",
      "Epoch 12/128\n",
      "1563/1563 - 78s - 50ms/step - accuracy: 0.6993 - loss: 0.8720 - val_accuracy: 0.7148 - val_loss: 0.8348\n",
      "Epoch 13/128\n",
      "1563/1563 - 85s - 55ms/step - accuracy: 0.7014 - loss: 0.8608 - val_accuracy: 0.7205 - val_loss: 0.8274\n",
      "Epoch 14/128\n",
      "1563/1563 - 76s - 49ms/step - accuracy: 0.7074 - loss: 0.8488 - val_accuracy: 0.7310 - val_loss: 0.8017\n",
      "Epoch 15/128\n",
      "1563/1563 - 84s - 54ms/step - accuracy: 0.7111 - loss: 0.8353 - val_accuracy: 0.7329 - val_loss: 0.7858\n",
      "Epoch 16/128\n",
      "1563/1563 - 81s - 52ms/step - accuracy: 0.7148 - loss: 0.8259 - val_accuracy: 0.7188 - val_loss: 0.8272\n",
      "Epoch 17/128\n",
      "1563/1563 - 81s - 52ms/step - accuracy: 0.7174 - loss: 0.8186 - val_accuracy: 0.7302 - val_loss: 0.7887\n",
      "Epoch 18/128\n",
      "1563/1563 - 101s - 65ms/step - accuracy: 0.7222 - loss: 0.8066 - val_accuracy: 0.7258 - val_loss: 0.7981\n",
      "Epoch 19/128\n",
      "1563/1563 - 95s - 61ms/step - accuracy: 0.7267 - loss: 0.7952 - val_accuracy: 0.7391 - val_loss: 0.7735\n",
      "Epoch 20/128\n",
      "1563/1563 - 77s - 49ms/step - accuracy: 0.7276 - loss: 0.7982 - val_accuracy: 0.7357 - val_loss: 0.7682\n",
      "Epoch 21/128\n",
      "1563/1563 - 75s - 48ms/step - accuracy: 0.7301 - loss: 0.7861 - val_accuracy: 0.7296 - val_loss: 0.7909\n",
      "Epoch 22/128\n",
      "1563/1563 - 76s - 48ms/step - accuracy: 0.7325 - loss: 0.7797 - val_accuracy: 0.7422 - val_loss: 0.7663\n",
      "Epoch 23/128\n",
      "1563/1563 - 79s - 51ms/step - accuracy: 0.7335 - loss: 0.7735 - val_accuracy: 0.7400 - val_loss: 0.7636\n",
      "Epoch 24/128\n",
      "1563/1563 - 78s - 50ms/step - accuracy: 0.7353 - loss: 0.7692 - val_accuracy: 0.7442 - val_loss: 0.7459\n",
      "Epoch 25/128\n",
      "1563/1563 - 75s - 48ms/step - accuracy: 0.7365 - loss: 0.7632 - val_accuracy: 0.7476 - val_loss: 0.7552\n",
      "Epoch 26/128\n",
      "1563/1563 - 111s - 71ms/step - accuracy: 0.7411 - loss: 0.7581 - val_accuracy: 0.7418 - val_loss: 0.7650\n",
      "Epoch 27/128\n",
      "1563/1563 - 93s - 59ms/step - accuracy: 0.7405 - loss: 0.7570 - val_accuracy: 0.7459 - val_loss: 0.7588\n",
      "Epoch 28/128\n",
      "1563/1563 - 89s - 57ms/step - accuracy: 0.7396 - loss: 0.7593 - val_accuracy: 0.7470 - val_loss: 0.7584\n",
      "Epoch 29/128\n",
      "1563/1563 - 84s - 54ms/step - accuracy: 0.7430 - loss: 0.7473 - val_accuracy: 0.7432 - val_loss: 0.7488\n",
      "Epoch 30/128\n",
      "1563/1563 - 92s - 59ms/step - accuracy: 0.7446 - loss: 0.7475 - val_accuracy: 0.7500 - val_loss: 0.7524\n",
      "Epoch 31/128\n",
      "1563/1563 - 80s - 51ms/step - accuracy: 0.7466 - loss: 0.7405 - val_accuracy: 0.7444 - val_loss: 0.7572\n",
      "Epoch 32/128\n",
      "1563/1563 - 91s - 58ms/step - accuracy: 0.7476 - loss: 0.7368 - val_accuracy: 0.7508 - val_loss: 0.7414\n",
      "Epoch 33/128\n",
      "1563/1563 - 79s - 51ms/step - accuracy: 0.7459 - loss: 0.7375 - val_accuracy: 0.7542 - val_loss: 0.7257\n",
      "Epoch 34/128\n",
      "1563/1563 - 84s - 54ms/step - accuracy: 0.7518 - loss: 0.7294 - val_accuracy: 0.7505 - val_loss: 0.7300\n",
      "Epoch 35/128\n",
      "1563/1563 - 79s - 50ms/step - accuracy: 0.7537 - loss: 0.7313 - val_accuracy: 0.7500 - val_loss: 0.7314\n",
      "Epoch 36/128\n",
      "1563/1563 - 98s - 63ms/step - accuracy: 0.7534 - loss: 0.7256 - val_accuracy: 0.7525 - val_loss: 0.7340\n",
      "Epoch 37/128\n",
      "1563/1563 - 84s - 54ms/step - accuracy: 0.7529 - loss: 0.7178 - val_accuracy: 0.7514 - val_loss: 0.7419\n",
      "Epoch 38/128\n",
      "1563/1563 - 76s - 48ms/step - accuracy: 0.7561 - loss: 0.7211 - val_accuracy: 0.7546 - val_loss: 0.7418\n",
      "Epoch 39/128\n",
      "1563/1563 - 89s - 57ms/step - accuracy: 0.7571 - loss: 0.7109 - val_accuracy: 0.7510 - val_loss: 0.7450\n",
      "Epoch 40/128\n",
      "1563/1563 - 83s - 53ms/step - accuracy: 0.7564 - loss: 0.7132 - val_accuracy: 0.7422 - val_loss: 0.7522\n",
      "Epoch 41/128\n",
      "1563/1563 - 79s - 51ms/step - accuracy: 0.7607 - loss: 0.7069 - val_accuracy: 0.7504 - val_loss: 0.7474\n",
      "Epoch 42/128\n",
      "1563/1563 - 79s - 51ms/step - accuracy: 0.7555 - loss: 0.7112 - val_accuracy: 0.7461 - val_loss: 0.7433\n",
      "Epoch 43/128\n",
      "1563/1563 - 86s - 55ms/step - accuracy: 0.7580 - loss: 0.7079 - val_accuracy: 0.7508 - val_loss: 0.7352\n",
      "Epoch 44/128\n",
      "1563/1563 - 87s - 55ms/step - accuracy: 0.7612 - loss: 0.7026 - val_accuracy: 0.7518 - val_loss: 0.7331\n",
      "Epoch 45/128\n",
      "1563/1563 - 79s - 51ms/step - accuracy: 0.7594 - loss: 0.7097 - val_accuracy: 0.7552 - val_loss: 0.7265\n",
      "Epoch 46/128\n",
      "1563/1563 - 76s - 49ms/step - accuracy: 0.7613 - loss: 0.7016 - val_accuracy: 0.7546 - val_loss: 0.7281\n",
      "Epoch 47/128\n",
      "1563/1563 - 77s - 50ms/step - accuracy: 0.7632 - loss: 0.6997 - val_accuracy: 0.7571 - val_loss: 0.7253\n",
      "Epoch 48/128\n",
      "1563/1563 - 90s - 58ms/step - accuracy: 0.7662 - loss: 0.6945 - val_accuracy: 0.7559 - val_loss: 0.7362\n",
      "Epoch 49/128\n",
      "1563/1563 - 77s - 49ms/step - accuracy: 0.7639 - loss: 0.6994 - val_accuracy: 0.7469 - val_loss: 0.7448\n",
      "Epoch 50/128\n",
      "1563/1563 - 99s - 63ms/step - accuracy: 0.7661 - loss: 0.6935 - val_accuracy: 0.7530 - val_loss: 0.7306\n",
      "Epoch 51/128\n",
      "1563/1563 - 56s - 36ms/step - accuracy: 0.7655 - loss: 0.6959 - val_accuracy: 0.7466 - val_loss: 0.7399\n",
      "Epoch 52/128\n",
      "1563/1563 - 55s - 35ms/step - accuracy: 0.7682 - loss: 0.6886 - val_accuracy: 0.7542 - val_loss: 0.7245\n",
      "Epoch 53/128\n",
      "1563/1563 - 54s - 35ms/step - accuracy: 0.7668 - loss: 0.6880 - val_accuracy: 0.7600 - val_loss: 0.7287\n",
      "Epoch 54/128\n",
      "1563/1563 - 56s - 36ms/step - accuracy: 0.7651 - loss: 0.6923 - val_accuracy: 0.7581 - val_loss: 0.7223\n",
      "Epoch 55/128\n",
      "1563/1563 - 54s - 35ms/step - accuracy: 0.7701 - loss: 0.6813 - val_accuracy: 0.7545 - val_loss: 0.7241\n",
      "Epoch 56/128\n",
      "1563/1563 - 56s - 36ms/step - accuracy: 0.7692 - loss: 0.6870 - val_accuracy: 0.7624 - val_loss: 0.7047\n",
      "Epoch 57/128\n",
      "1563/1563 - 58s - 37ms/step - accuracy: 0.7703 - loss: 0.6849 - val_accuracy: 0.7595 - val_loss: 0.7212\n",
      "Epoch 58/128\n",
      "1563/1563 - 56s - 36ms/step - accuracy: 0.7691 - loss: 0.6851 - val_accuracy: 0.7618 - val_loss: 0.7251\n",
      "Epoch 59/128\n",
      "1563/1563 - 55s - 35ms/step - accuracy: 0.7688 - loss: 0.6837 - val_accuracy: 0.7602 - val_loss: 0.7030\n",
      "Epoch 60/128\n",
      "1563/1563 - 55s - 35ms/step - accuracy: 0.7736 - loss: 0.6792 - val_accuracy: 0.7622 - val_loss: 0.7151\n",
      "Epoch 61/128\n",
      "1563/1563 - 54s - 35ms/step - accuracy: 0.7734 - loss: 0.6813 - val_accuracy: 0.7595 - val_loss: 0.7156\n",
      "Epoch 62/128\n",
      "1563/1563 - 54s - 35ms/step - accuracy: 0.7755 - loss: 0.6668 - val_accuracy: 0.7593 - val_loss: 0.7265\n",
      "Epoch 63/128\n",
      "1563/1563 - 52s - 33ms/step - accuracy: 0.7750 - loss: 0.6756 - val_accuracy: 0.7568 - val_loss: 0.7277\n",
      "Epoch 64/128\n",
      "1563/1563 - 56s - 36ms/step - accuracy: 0.7704 - loss: 0.6783 - val_accuracy: 0.7589 - val_loss: 0.7213\n",
      "Epoch 65/128\n",
      "1563/1563 - 53s - 34ms/step - accuracy: 0.7679 - loss: 0.6888 - val_accuracy: 0.7544 - val_loss: 0.7292\n",
      "Epoch 66/128\n",
      "1563/1563 - 54s - 35ms/step - accuracy: 0.7749 - loss: 0.6703 - val_accuracy: 0.7574 - val_loss: 0.7214\n",
      "Epoch 67/128\n",
      "1563/1563 - 54s - 34ms/step - accuracy: 0.7768 - loss: 0.6687 - val_accuracy: 0.7564 - val_loss: 0.7254\n",
      "Epoch 68/128\n",
      "1563/1563 - 50s - 32ms/step - accuracy: 0.7760 - loss: 0.6687 - val_accuracy: 0.7525 - val_loss: 0.7483\n",
      "Epoch 69/128\n",
      "1563/1563 - 47s - 30ms/step - accuracy: 0.7765 - loss: 0.6733 - val_accuracy: 0.7569 - val_loss: 0.7263\n",
      "Epoch 70/128\n",
      "1563/1563 - 55s - 35ms/step - accuracy: 0.7754 - loss: 0.6742 - val_accuracy: 0.7624 - val_loss: 0.7064\n",
      "Epoch 71/128\n",
      "1563/1563 - 47s - 30ms/step - accuracy: 0.7750 - loss: 0.6715 - val_accuracy: 0.7636 - val_loss: 0.7169\n",
      "Epoch 72/128\n",
      "1563/1563 - 46s - 29ms/step - accuracy: 0.7755 - loss: 0.6713 - val_accuracy: 0.7563 - val_loss: 0.7232\n",
      "Epoch 73/128\n",
      "1563/1563 - 49s - 31ms/step - accuracy: 0.7783 - loss: 0.6644 - val_accuracy: 0.7629 - val_loss: 0.7069\n",
      "Epoch 74/128\n",
      "1563/1563 - 50s - 32ms/step - accuracy: 0.7764 - loss: 0.6702 - val_accuracy: 0.7624 - val_loss: 0.7230\n",
      "Epoch 75/128\n",
      "1563/1563 - 51s - 33ms/step - accuracy: 0.7782 - loss: 0.6650 - val_accuracy: 0.7579 - val_loss: 0.7280\n",
      "Epoch 76/128\n",
      "1563/1563 - 48s - 31ms/step - accuracy: 0.7780 - loss: 0.6598 - val_accuracy: 0.7666 - val_loss: 0.7130\n",
      "Epoch 77/128\n",
      "1563/1563 - 49s - 31ms/step - accuracy: 0.7774 - loss: 0.6654 - val_accuracy: 0.7630 - val_loss: 0.7143\n",
      "Epoch 78/128\n",
      "1563/1563 - 49s - 31ms/step - accuracy: 0.7802 - loss: 0.6621 - val_accuracy: 0.7691 - val_loss: 0.6998\n",
      "Epoch 79/128\n",
      "1563/1563 - 49s - 31ms/step - accuracy: 0.7802 - loss: 0.6662 - val_accuracy: 0.7632 - val_loss: 0.7091\n",
      "Epoch 80/128\n",
      "1563/1563 - 48s - 31ms/step - accuracy: 0.7798 - loss: 0.6577 - val_accuracy: 0.7607 - val_loss: 0.7162\n",
      "Epoch 81/128\n",
      "1563/1563 - 48s - 31ms/step - accuracy: 0.7779 - loss: 0.6654 - val_accuracy: 0.7656 - val_loss: 0.7213\n",
      "Epoch 82/128\n",
      "1563/1563 - 50s - 32ms/step - accuracy: 0.7801 - loss: 0.6601 - val_accuracy: 0.7673 - val_loss: 0.7117\n",
      "Epoch 83/128\n",
      "1563/1563 - 64s - 41ms/step - accuracy: 0.7788 - loss: 0.6632 - val_accuracy: 0.7561 - val_loss: 0.7407\n",
      "Epoch 84/128\n",
      "1563/1563 - 49s - 32ms/step - accuracy: 0.7787 - loss: 0.6633 - val_accuracy: 0.7623 - val_loss: 0.7269\n",
      "Epoch 85/128\n",
      "1563/1563 - 54s - 34ms/step - accuracy: 0.7790 - loss: 0.6630 - val_accuracy: 0.7551 - val_loss: 0.7258\n",
      "Epoch 86/128\n",
      "1563/1563 - 50s - 32ms/step - accuracy: 0.7832 - loss: 0.6613 - val_accuracy: 0.7647 - val_loss: 0.7139\n",
      "Epoch 87/128\n",
      "1563/1563 - 49s - 32ms/step - accuracy: 0.7808 - loss: 0.6602 - val_accuracy: 0.7637 - val_loss: 0.7175\n",
      "Epoch 88/128\n",
      "1563/1563 - 48s - 31ms/step - accuracy: 0.7826 - loss: 0.6540 - val_accuracy: 0.7584 - val_loss: 0.7331\n",
      "Epoch 89/128\n",
      "1563/1563 - 50s - 32ms/step - accuracy: 0.7829 - loss: 0.6578 - val_accuracy: 0.7570 - val_loss: 0.7233\n",
      "Epoch 90/128\n",
      "1563/1563 - 47s - 30ms/step - accuracy: 0.7792 - loss: 0.6623 - val_accuracy: 0.7564 - val_loss: 0.7205\n",
      "Epoch 91/128\n",
      "1563/1563 - 50s - 32ms/step - accuracy: 0.7838 - loss: 0.6514 - val_accuracy: 0.7656 - val_loss: 0.7175\n",
      "Epoch 92/128\n",
      "1563/1563 - 47s - 30ms/step - accuracy: 0.7834 - loss: 0.6544 - val_accuracy: 0.7680 - val_loss: 0.7035\n",
      "Epoch 93/128\n",
      "1563/1563 - 48s - 31ms/step - accuracy: 0.7825 - loss: 0.6643 - val_accuracy: 0.7623 - val_loss: 0.7206\n",
      "Epoch 94/128\n",
      "1563/1563 - 47s - 30ms/step - accuracy: 0.7810 - loss: 0.6593 - val_accuracy: 0.7550 - val_loss: 0.7242\n",
      "Epoch 95/128\n",
      "1563/1563 - 47s - 30ms/step - accuracy: 0.7840 - loss: 0.6541 - val_accuracy: 0.7477 - val_loss: 0.7574\n",
      "Epoch 96/128\n",
      "1563/1563 - 48s - 31ms/step - accuracy: 0.7824 - loss: 0.6555 - val_accuracy: 0.7607 - val_loss: 0.7251\n",
      "Epoch 97/128\n",
      "1563/1563 - 56s - 36ms/step - accuracy: 0.7823 - loss: 0.6510 - val_accuracy: 0.7607 - val_loss: 0.7376\n",
      "Epoch 98/128\n",
      "1563/1563 - 52s - 34ms/step - accuracy: 0.7803 - loss: 0.6586 - val_accuracy: 0.7547 - val_loss: 0.7453\n",
      "Epoch 99/128\n",
      "1563/1563 - 52s - 33ms/step - accuracy: 0.7817 - loss: 0.6628 - val_accuracy: 0.7623 - val_loss: 0.7244\n",
      "Epoch 100/128\n",
      "1563/1563 - 51s - 33ms/step - accuracy: 0.7810 - loss: 0.6603 - val_accuracy: 0.7602 - val_loss: 0.7349\n",
      "Epoch 101/128\n",
      "1563/1563 - 49s - 32ms/step - accuracy: 0.7796 - loss: 0.6594 - val_accuracy: 0.7555 - val_loss: 0.7555\n",
      "Epoch 102/128\n",
      "1563/1563 - 49s - 31ms/step - accuracy: 0.7808 - loss: 0.6626 - val_accuracy: 0.7513 - val_loss: 0.7408\n",
      "Epoch 103/128\n",
      "1563/1563 - 49s - 31ms/step - accuracy: 0.7829 - loss: 0.6598 - val_accuracy: 0.7554 - val_loss: 0.7321\n",
      "Epoch 104/128\n",
      "1563/1563 - 50s - 32ms/step - accuracy: 0.7841 - loss: 0.6541 - val_accuracy: 0.7644 - val_loss: 0.7139\n",
      "Epoch 105/128\n",
      "1563/1563 - 47s - 30ms/step - accuracy: 0.7881 - loss: 0.6530 - val_accuracy: 0.7683 - val_loss: 0.7078\n",
      "Epoch 106/128\n",
      "1563/1563 - 51s - 32ms/step - accuracy: 0.7866 - loss: 0.6535 - val_accuracy: 0.7667 - val_loss: 0.7150\n",
      "Epoch 107/128\n",
      "1563/1563 - 59s - 38ms/step - accuracy: 0.7890 - loss: 0.6486 - val_accuracy: 0.7664 - val_loss: 0.7098\n",
      "Epoch 108/128\n",
      "1563/1563 - 54s - 35ms/step - accuracy: 0.7827 - loss: 0.6617 - val_accuracy: 0.7669 - val_loss: 0.7092\n",
      "Epoch 109/128\n",
      "1563/1563 - 53s - 34ms/step - accuracy: 0.7857 - loss: 0.6521 - val_accuracy: 0.7653 - val_loss: 0.7211\n",
      "Epoch 110/128\n",
      "1563/1563 - 57s - 37ms/step - accuracy: 0.7858 - loss: 0.6517 - val_accuracy: 0.7588 - val_loss: 0.7306\n",
      "Epoch 111/128\n",
      "1563/1563 - 61s - 39ms/step - accuracy: 0.7839 - loss: 0.6554 - val_accuracy: 0.7686 - val_loss: 0.7246\n",
      "Epoch 112/128\n",
      "1563/1563 - 59s - 37ms/step - accuracy: 0.7823 - loss: 0.6611 - val_accuracy: 0.7763 - val_loss: 0.6959\n",
      "Epoch 113/128\n",
      "1563/1563 - 62s - 40ms/step - accuracy: 0.7872 - loss: 0.6496 - val_accuracy: 0.7574 - val_loss: 0.7377\n",
      "Epoch 114/128\n",
      "1563/1563 - 55s - 35ms/step - accuracy: 0.7864 - loss: 0.6549 - val_accuracy: 0.7690 - val_loss: 0.7126\n",
      "Epoch 115/128\n",
      "1563/1563 - 53s - 34ms/step - accuracy: 0.7830 - loss: 0.6594 - val_accuracy: 0.7631 - val_loss: 0.7282\n",
      "Epoch 116/128\n",
      "1563/1563 - 53s - 34ms/step - accuracy: 0.7826 - loss: 0.6601 - val_accuracy: 0.7627 - val_loss: 0.7293\n",
      "Epoch 117/128\n",
      "1563/1563 - 54s - 34ms/step - accuracy: 0.7894 - loss: 0.6508 - val_accuracy: 0.7702 - val_loss: 0.7143\n",
      "Epoch 118/128\n",
      "1563/1563 - 57s - 37ms/step - accuracy: 0.7877 - loss: 0.6486 - val_accuracy: 0.7698 - val_loss: 0.7045\n",
      "Epoch 119/128\n",
      "1563/1563 - 52s - 33ms/step - accuracy: 0.7844 - loss: 0.6580 - val_accuracy: 0.7668 - val_loss: 0.7320\n",
      "Epoch 120/128\n",
      "1563/1563 - 53s - 34ms/step - accuracy: 0.7819 - loss: 0.6604 - val_accuracy: 0.7707 - val_loss: 0.7098\n",
      "Epoch 121/128\n",
      "1563/1563 - 56s - 36ms/step - accuracy: 0.7835 - loss: 0.6540 - val_accuracy: 0.7608 - val_loss: 0.7384\n",
      "Epoch 122/128\n",
      "1563/1563 - 59s - 38ms/step - accuracy: 0.7861 - loss: 0.6518 - val_accuracy: 0.7571 - val_loss: 0.7519\n",
      "Epoch 123/128\n",
      "1563/1563 - 58s - 37ms/step - accuracy: 0.7887 - loss: 0.6517 - val_accuracy: 0.7634 - val_loss: 0.7313\n",
      "Epoch 124/128\n",
      "1563/1563 - 56s - 36ms/step - accuracy: 0.7868 - loss: 0.6534 - val_accuracy: 0.7603 - val_loss: 0.7322\n",
      "Epoch 125/128\n",
      "1563/1563 - 54s - 35ms/step - accuracy: 0.7867 - loss: 0.6495 - val_accuracy: 0.7677 - val_loss: 0.7133\n",
      "Epoch 126/128\n",
      "1563/1563 - 53s - 34ms/step - accuracy: 0.7867 - loss: 0.6485 - val_accuracy: 0.7683 - val_loss: 0.7078\n",
      "Epoch 127/128\n",
      "1563/1563 - 59s - 38ms/step - accuracy: 0.7865 - loss: 0.6489 - val_accuracy: 0.7633 - val_loss: 0.7365\n",
      "Epoch 128/128\n",
      "1563/1563 - 54s - 34ms/step - accuracy: 0.7867 - loss: 0.6488 - val_accuracy: 0.7715 - val_loss: 0.7072\n"
     ]
    }
   ],
   "source": [
    "# Model with 4 convolutional and 2 fully-connected layers\n",
    "# using dropout and max-pooling.\n",
    "# config 1\n",
    "model = Sequential()\n",
    "model.add(keras.Input(shape=(32, 32, 3)))\n",
    "model.add(Conv2D(64, (4, 4), activation='relu', padding='same'))\n",
    "model.add(Dropout(0.2))\n",
    "model.add(Conv2D(64, (2, 2), activation='relu', padding='same', strides=(2,2)))\n",
    "model.add(Dropout(0.2))\n",
    "model.add(Conv2D(32, (3, 3), activation='relu', padding='same'))\n",
    "model.add(Dropout(0.2))\n",
    "model.add(Conv2D(32, (3, 3), activation='relu', padding='same'))\n",
    "model.add(MaxPooling2D(pool_size=(2, 2), strides=2))\n",
    "model.add(Dropout(0.2))\n",
    "model.add(Flatten())\n",
    "model.add(Dense(64, activation='relu'))\n",
    "model.add(Dropout(0.2))\n",
    "model.add(Dense(64, activation='relu'))\n",
    "model.add(Dropout(0.2))\n",
    "model.add(Dense(10, activation='softmax'))\n",
    "\n",
    "# Compile and train the model.\n",
    "model.compile(loss='categorical_crossentropy', \n",
    "              optimizer='adam', metrics =['accuracy'])\n",
    "model.summary()\n",
    "history = model.fit(\n",
    "    train_images, train_labels, validation_data =\n",
    "    (test_images, test_labels), epochs=EPOCHS, \n",
    "    batch_size=BATCH_SIZE, verbose=2, shuffle=True)\n"
   ]
  },
  {
   "cell_type": "code",
   "execution_count": 6,
   "metadata": {},
   "outputs": [
    {
     "data": {
      "image/png": "[encoded data removed]",
      "text/plain": [
       "<Figure size 432x288 with 1 Axes>"
      ]
     },
     "metadata": {
      "needs_background": "light"
     },
     "output_type": "display_data"
    }
   ],
   "source": [
    "import matplotlib.pyplot as plt\n",
    "\n",
    "# Plot training & validation accuracy values\n",
    "plt.plot(history.history['accuracy']) \n",
    "plt.plot(history.history['val_accuracy'])\n",
    "plt.title('model accuracy')\n",
    "plt.ylabel('accuracy')\n",
    "plt.xlabel('epoch')\n",
    "plt.legend(['train erorr', 'test error'], loc='upper left')\n",
    "plt.show()"
   ]
  }
 ],
 "metadata": {
  "kernelspec": {
   "display_name": "Python 3",
   "language": "python",
   "name": "python3"
  },
  "language_info": {
   "codemirror_mode": {
    "name": "ipython",
    "version": 3
   },
   "file_extension": ".py",
   "mimetype": "text/x-python",
   "name": "python",
   "nbconvert_exporter": "python",
   "pygments_lexer": "ipython3",
   "version": "3.10.12"
  }
 },
 "nbformat": 4,
 "nbformat_minor": 2
}
