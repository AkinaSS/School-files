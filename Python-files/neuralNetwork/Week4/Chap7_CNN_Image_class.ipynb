{
 "cells": [
  {
   "cell_type": "code",
   "execution_count": 10,
   "metadata": {},
   "outputs": [
    {
     "data": {
      "text/plain": [
       "'\\nThe MIT License (MIT)\\nCopyright (c) 2021 NVIDIA\\nPermission is hereby granted, free of charge, to any person obtaining a copy of\\nthis software and associated documentation files (the \"Software\"), to deal in\\nthe Software without restriction, including without limitation the rights to\\nuse, copy, modify, merge, publish, distribute, sublicense, and/or sell copies of\\nthe Software, and to permit persons to whom the Software is furnished to do so,\\nsubject to the following conditions:\\nThe above copyright notice and this permission notice shall be included in all\\ncopies or substantial portions of the Software.\\nTHE SOFTWARE IS PROVIDED \"AS IS\", WITHOUT WARRANTY OF ANY KIND, EXPRESS OR\\nIMPLIED, INCLUDING BUT NOT LIMITED TO THE WARRANTIES OF MERCHANTABILITY, FITNESS\\nFOR A PARTICULAR PURPOSE AND NONINFRINGEMENT. IN NO EVENT SHALL THE AUTHORS OR\\nCOPYRIGHT HOLDERS BE LIABLE FOR ANY CLAIM, DAMAGES OR OTHER LIABILITY, WHETHER\\nIN AN ACTION OF CONTRACT, TORT OR OTHERWISE, ARISING FROM, OUT OF OR IN\\nCONNECTION WITH THE SOFTWARE OR THE USE OR OTHER DEALINGS IN THE SOFTWARE.\\n'"
      ]
     },
     "execution_count": 10,
     "metadata": {},
     "output_type": "execute_result"
    }
   ],
   "source": [
    "\"\"\"\n",
    "The MIT License (MIT)\n",
    "Copyright (c) 2021 NVIDIA\n",
    "Permission is hereby granted, free of charge, to any person obtaining a copy of\n",
    "this software and associated documentation files (the \"Software\"), to deal in\n",
    "the Software without restriction, including without limitation the rights to\n",
    "use, copy, modify, merge, publish, distribute, sublicense, and/or sell copies of\n",
    "the Software, and to permit persons to whom the Software is furnished to do so,\n",
    "subject to the following conditions:\n",
    "The above copyright notice and this permission notice shall be included in all\n",
    "copies or substantial portions of the Software.\n",
    "THE SOFTWARE IS PROVIDED \"AS IS\", WITHOUT WARRANTY OF ANY KIND, EXPRESS OR\n",
    "IMPLIED, INCLUDING BUT NOT LIMITED TO THE WARRANTIES OF MERCHANTABILITY, FITNESS\n",
    "FOR A PARTICULAR PURPOSE AND NONINFRINGEMENT. IN NO EVENT SHALL THE AUTHORS OR\n",
    "COPYRIGHT HOLDERS BE LIABLE FOR ANY CLAIM, DAMAGES OR OTHER LIABILITY, WHETHER\n",
    "IN AN ACTION OF CONTRACT, TORT OR OTHERWISE, ARISING FROM, OUT OF OR IN\n",
    "CONNECTION WITH THE SOFTWARE OR THE USE OR OTHER DEALINGS IN THE SOFTWARE.\n",
    "\"\"\"\n"
   ]
  },
  {
   "cell_type": "markdown",
   "metadata": {},
   "source": [
    "This code example demonstrates how to use a convolutional neural network to solve an image classification problem, using the CIFAR-10 dataset. More context for this code example can be found in the section \"Programming Example: Image Classification with a Convolutional Network\" in Chapter 7 in the book Learning Deep Learning by Magnus Ekman (ISBN: 9780137470358).\n"
   ]
  },
  {
   "cell_type": "markdown",
   "metadata": {},
   "source": [
    "The first code snippet shows the initialization code for our CNN program. Among the import statements, we now import a new layer called Conv2D, which is a 2D convolutional layer. We load and standardize the CIFAR-10 dataset."
   ]
  },
  {
   "cell_type": "code",
   "execution_count": 11,
   "metadata": {},
   "outputs": [
    {
     "name": "stdout",
     "output_type": "stream",
     "text": [
      "mean:  120.70756512369792\n",
      "stddev:  64.1500758911213\n"
     ]
    }
   ],
   "source": [
    "import tensorflow as tf\n",
    "from tensorflow import keras\n",
    "from keras.utils import to_categorical\n",
    "from keras.models import Sequential\n",
    "from keras.layers import Dense\n",
    "from keras.layers import Flatten\n",
    "from keras.layers import Conv2D\n",
    "import numpy as np\n",
    "import logging\n",
    "tf.get_logger().setLevel(logging.ERROR)\n",
    "\n",
    "EPOCHS = 128\n",
    "BATCH_SIZE = 32\n",
    "\n",
    "# Load dataset.\n",
    "cifar_dataset = keras.datasets.cifar10\n",
    "(train_images, train_labels), (test_images,\n",
    "    test_labels) = cifar_dataset.load_data()\n",
    "\n",
    "# Standardize dataset.\n",
    "mean = np.mean(train_images)\n",
    "stddev = np.std(train_images)\n",
    "train_images = (train_images - mean) / stddev\n",
    "test_images = (test_images - mean) / stddev\n",
    "print('mean: ', mean)\n",
    "print('stddev: ', stddev)\n",
    "\n",
    "# Change labels to one-hot.\n",
    "train_labels = to_categorical(train_labels,\n",
    "                              num_classes=10)\n",
    "test_labels = to_categorical(test_labels,\n",
    "                             num_classes=10)\n"
   ]
  },
  {
   "cell_type": "markdown",
   "metadata": {},
   "source": [
    "The actual model is created by the next code snippet, which first declares a Sequential model and then adds layers. We are now working with a 2D convolutional layer, so there is no need to start with a Flatten layer because the dimensions of the input image already match the required dimension of the first layer. We tell the layer that the input shape of the image is 32×32×3. We also state that we want 64 channels, a kernel size of 5×5, a stride of (2, 2), and padding=’same’. We specify the neuron type as ReLU because that has been shown to be a good activation function. The combination of padding=’same’ and strides=(2,2) results in half as many neurons in each dimension as in the previous layer (i.e., 16×16 neurons per channel because the input image has 32×32 pixels).\n",
    "\n",
    "The next convolutional layer is similar but with a smaller kernel size. There is no need to specify the input shape—it is implicitly defined by the outputs of the previous layer. The number of neurons per channel is implicitly defined as 8×8 because the previous layer was 16×16 outputs per channel, and we choose a stride of 2, 2 for this layer as well.\n",
    "\n",
    "Before we can add the fully connected (Dense) layer, we need to flatten (convert from three dimensions to a single dimension) the outputs from the second convolutional layer. We use softmax activation for the fully connected layer so we can interpret the one-hot encoded outputs as probabilities.\n",
    "\n",
    "We finally select the categorical_crossentropy loss function and use the Adam optimizer in our call to compile. We then print out a description of the network with a call to model.summary().\n"
   ]
  },
  {
   "cell_type": "code",
   "execution_count": 12,
   "metadata": {},
   "outputs": [
    {
     "data": {
      "text/html": [
       "<pre style=\"white-space:pre;overflow-x:auto;line-height:normal;font-family:Menlo,'DejaVu Sans Mono',consolas,'Courier New',monospace\"><span style=\"font-weight: bold\">Model: \"sequential_5\"</span>\n",
       "</pre>\n"
      ],
      "text/plain": [
       "\u001b[1mModel: \"sequential_5\"\u001b[0m\n"
      ]
     },
     "metadata": {},
     "output_type": "display_data"
    },
    {
     "data": {
      "text/html": [
       "<pre style=\"white-space:pre;overflow-x:auto;line-height:normal;font-family:Menlo,'DejaVu Sans Mono',consolas,'Courier New',monospace\">┏━━━━━━━━━━━━━━━━━━━━━━━━━━━━━━━━━┳━━━━━━━━━━━━━━━━━━━━━━━━┳━━━━━━━━━━━━━━━┓\n",
       "┃<span style=\"font-weight: bold\"> Layer (type)                    </span>┃<span style=\"font-weight: bold\"> Output Shape           </span>┃<span style=\"font-weight: bold\">       Param # </span>┃\n",
       "┡━━━━━━━━━━━━━━━━━━━━━━━━━━━━━━━━━╇━━━━━━━━━━━━━━━━━━━━━━━━╇━━━━━━━━━━━━━━━┩\n",
       "│ conv2d_6 (<span style=\"color: #0087ff; text-decoration-color: #0087ff\">Conv2D</span>)               │ (<span style=\"color: #00d7ff; text-decoration-color: #00d7ff\">None</span>, <span style=\"color: #00af00; text-decoration-color: #00af00\">16</span>, <span style=\"color: #00af00; text-decoration-color: #00af00\">16</span>, <span style=\"color: #00af00; text-decoration-color: #00af00\">64</span>)     │         <span style=\"color: #00af00; text-decoration-color: #00af00\">4,864</span> │\n",
       "├─────────────────────────────────┼────────────────────────┼───────────────┤\n",
       "│ conv2d_7 (<span style=\"color: #0087ff; text-decoration-color: #0087ff\">Conv2D</span>)               │ (<span style=\"color: #00d7ff; text-decoration-color: #00d7ff\">None</span>, <span style=\"color: #00af00; text-decoration-color: #00af00\">8</span>, <span style=\"color: #00af00; text-decoration-color: #00af00\">8</span>, <span style=\"color: #00af00; text-decoration-color: #00af00\">64</span>)       │        <span style=\"color: #00af00; text-decoration-color: #00af00\">36,928</span> │\n",
       "├─────────────────────────────────┼────────────────────────┼───────────────┤\n",
       "│ flatten_3 (<span style=\"color: #0087ff; text-decoration-color: #0087ff\">Flatten</span>)             │ (<span style=\"color: #00d7ff; text-decoration-color: #00d7ff\">None</span>, <span style=\"color: #00af00; text-decoration-color: #00af00\">4096</span>)           │             <span style=\"color: #00af00; text-decoration-color: #00af00\">0</span> │\n",
       "├─────────────────────────────────┼────────────────────────┼───────────────┤\n",
       "│ dense_3 (<span style=\"color: #0087ff; text-decoration-color: #0087ff\">Dense</span>)                 │ (<span style=\"color: #00d7ff; text-decoration-color: #00d7ff\">None</span>, <span style=\"color: #00af00; text-decoration-color: #00af00\">10</span>)             │        <span style=\"color: #00af00; text-decoration-color: #00af00\">40,970</span> │\n",
       "└─────────────────────────────────┴────────────────────────┴───────────────┘\n",
       "</pre>\n"
      ],
      "text/plain": [
       "┏━━━━━━━━━━━━━━━━━━━━━━━━━━━━━━━━━┳━━━━━━━━━━━━━━━━━━━━━━━━┳━━━━━━━━━━━━━━━┓\n",
       "┃\u001b[1m \u001b[0m\u001b[1mLayer (type)                   \u001b[0m\u001b[1m \u001b[0m┃\u001b[1m \u001b[0m\u001b[1mOutput Shape          \u001b[0m\u001b[1m \u001b[0m┃\u001b[1m \u001b[0m\u001b[1m      Param #\u001b[0m\u001b[1m \u001b[0m┃\n",
       "┡━━━━━━━━━━━━━━━━━━━━━━━━━━━━━━━━━╇━━━━━━━━━━━━━━━━━━━━━━━━╇━━━━━━━━━━━━━━━┩\n",
       "│ conv2d_6 (\u001b[38;5;33mConv2D\u001b[0m)               │ (\u001b[38;5;45mNone\u001b[0m, \u001b[38;5;34m16\u001b[0m, \u001b[38;5;34m16\u001b[0m, \u001b[38;5;34m64\u001b[0m)     │         \u001b[38;5;34m4,864\u001b[0m │\n",
       "├─────────────────────────────────┼────────────────────────┼───────────────┤\n",
       "│ conv2d_7 (\u001b[38;5;33mConv2D\u001b[0m)               │ (\u001b[38;5;45mNone\u001b[0m, \u001b[38;5;34m8\u001b[0m, \u001b[38;5;34m8\u001b[0m, \u001b[38;5;34m64\u001b[0m)       │        \u001b[38;5;34m36,928\u001b[0m │\n",
       "├─────────────────────────────────┼────────────────────────┼───────────────┤\n",
       "│ flatten_3 (\u001b[38;5;33mFlatten\u001b[0m)             │ (\u001b[38;5;45mNone\u001b[0m, \u001b[38;5;34m4096\u001b[0m)           │             \u001b[38;5;34m0\u001b[0m │\n",
       "├─────────────────────────────────┼────────────────────────┼───────────────┤\n",
       "│ dense_3 (\u001b[38;5;33mDense\u001b[0m)                 │ (\u001b[38;5;45mNone\u001b[0m, \u001b[38;5;34m10\u001b[0m)             │        \u001b[38;5;34m40,970\u001b[0m │\n",
       "└─────────────────────────────────┴────────────────────────┴───────────────┘\n"
      ]
     },
     "metadata": {},
     "output_type": "display_data"
    },
    {
     "data": {
      "text/html": [
       "<pre style=\"white-space:pre;overflow-x:auto;line-height:normal;font-family:Menlo,'DejaVu Sans Mono',consolas,'Courier New',monospace\"><span style=\"font-weight: bold\"> Total params: </span><span style=\"color: #00af00; text-decoration-color: #00af00\">82,762</span> (323.29 KB)\n",
       "</pre>\n"
      ],
      "text/plain": [
       "\u001b[1m Total params: \u001b[0m\u001b[38;5;34m82,762\u001b[0m (323.29 KB)\n"
      ]
     },
     "metadata": {},
     "output_type": "display_data"
    },
    {
     "data": {
      "text/html": [
       "<pre style=\"white-space:pre;overflow-x:auto;line-height:normal;font-family:Menlo,'DejaVu Sans Mono',consolas,'Courier New',monospace\"><span style=\"font-weight: bold\"> Trainable params: </span><span style=\"color: #00af00; text-decoration-color: #00af00\">82,762</span> (323.29 KB)\n",
       "</pre>\n"
      ],
      "text/plain": [
       "\u001b[1m Trainable params: \u001b[0m\u001b[38;5;34m82,762\u001b[0m (323.29 KB)\n"
      ]
     },
     "metadata": {},
     "output_type": "display_data"
    },
    {
     "data": {
      "text/html": [
       "<pre style=\"white-space:pre;overflow-x:auto;line-height:normal;font-family:Menlo,'DejaVu Sans Mono',consolas,'Courier New',monospace\"><span style=\"font-weight: bold\"> Non-trainable params: </span><span style=\"color: #00af00; text-decoration-color: #00af00\">0</span> (0.00 B)\n",
       "</pre>\n"
      ],
      "text/plain": [
       "\u001b[1m Non-trainable params: \u001b[0m\u001b[38;5;34m0\u001b[0m (0.00 B)\n"
      ]
     },
     "metadata": {},
     "output_type": "display_data"
    }
   ],
   "source": [
    "# Model with two convolutional and one fully connected layer.\n",
    "model = Sequential()\n",
    "model.add(keras.Input(shape=(32, 32, 3)))\n",
    "model.add(Conv2D(64, (5, 5), strides=(2,2),\n",
    "                 activation='relu', padding='same',\n",
    "                 kernel_initializer='he_normal',\n",
    "                 bias_initializer='zeros'))\n",
    "model.add(Conv2D(64, (3, 3), strides=(2,2),\n",
    "                 activation='relu', padding='same',\n",
    "                 kernel_initializer='he_normal',\n",
    "                 bias_initializer='zeros'))\n",
    "model.add(Flatten())\n",
    "model.add(Dense(10, activation='softmax',\n",
    "                kernel_initializer='glorot_uniform',\n",
    "                bias_initializer='zeros'))\n",
    "\n",
    "model.compile(loss='categorical_crossentropy',\n",
    "              optimizer='adam', metrics =['accuracy'])\n",
    "model.summary()\n"
   ]
  },
  {
   "cell_type": "markdown",
   "metadata": {},
   "source": [
    "We are now ready to train the network by calling fit() on the model.\n"
   ]
  },
  {
   "cell_type": "code",
   "execution_count": 13,
   "metadata": {},
   "outputs": [
    {
     "name": "stdout",
     "output_type": "stream",
     "text": [
      "Epoch 1/128\n",
      "1563/1563 - 58s - 37ms/step - accuracy: 0.5139 - loss: 1.3827 - val_accuracy: 0.5728 - val_loss: 1.1949\n",
      "Epoch 2/128\n",
      "1563/1563 - 41s - 26ms/step - accuracy: 0.6356 - loss: 1.0459 - val_accuracy: 0.6300 - val_loss: 1.0633\n",
      "Epoch 3/128\n",
      "1563/1563 - 24s - 15ms/step - accuracy: 0.6873 - loss: 0.9002 - val_accuracy: 0.6428 - val_loss: 1.0473\n",
      "Epoch 4/128\n",
      "1563/1563 - 23s - 15ms/step - accuracy: 0.7213 - loss: 0.8015 - val_accuracy: 0.6433 - val_loss: 1.0677\n",
      "Epoch 5/128\n",
      "1563/1563 - 26s - 17ms/step - accuracy: 0.7484 - loss: 0.7213 - val_accuracy: 0.6475 - val_loss: 1.0749\n",
      "Epoch 6/128\n",
      "1563/1563 - 23s - 15ms/step - accuracy: 0.7720 - loss: 0.6519 - val_accuracy: 0.6423 - val_loss: 1.1452\n",
      "Epoch 7/128\n",
      "1563/1563 - 20s - 13ms/step - accuracy: 0.7927 - loss: 0.5922 - val_accuracy: 0.6447 - val_loss: 1.1635\n",
      "Epoch 8/128\n",
      "1563/1563 - 20s - 13ms/step - accuracy: 0.8100 - loss: 0.5429 - val_accuracy: 0.6378 - val_loss: 1.2615\n",
      "Epoch 9/128\n",
      "1563/1563 - 22s - 14ms/step - accuracy: 0.8264 - loss: 0.4944 - val_accuracy: 0.6376 - val_loss: 1.2753\n",
      "Epoch 10/128\n",
      "1563/1563 - 40s - 26ms/step - accuracy: 0.8375 - loss: 0.4591 - val_accuracy: 0.6357 - val_loss: 1.3850\n",
      "Epoch 11/128\n",
      "1563/1563 - 22s - 14ms/step - accuracy: 0.8506 - loss: 0.4190 - val_accuracy: 0.6365 - val_loss: 1.4199\n",
      "Epoch 12/128\n",
      "1563/1563 - 21s - 13ms/step - accuracy: 0.8600 - loss: 0.3887 - val_accuracy: 0.6289 - val_loss: 1.5545\n",
      "Epoch 13/128\n",
      "1563/1563 - 18s - 12ms/step - accuracy: 0.8745 - loss: 0.3540 - val_accuracy: 0.6235 - val_loss: 1.6514\n",
      "Epoch 14/128\n",
      "1563/1563 - 28s - 18ms/step - accuracy: 0.8822 - loss: 0.3307 - val_accuracy: 0.6285 - val_loss: 1.7764\n",
      "Epoch 15/128\n",
      "1563/1563 - 20s - 13ms/step - accuracy: 0.8885 - loss: 0.3096 - val_accuracy: 0.6178 - val_loss: 1.8545\n",
      "Epoch 16/128\n",
      "1563/1563 - 18s - 12ms/step - accuracy: 0.8984 - loss: 0.2834 - val_accuracy: 0.6254 - val_loss: 1.9316\n",
      "Epoch 17/128\n",
      "1563/1563 - 19s - 12ms/step - accuracy: 0.9012 - loss: 0.2698 - val_accuracy: 0.6173 - val_loss: 2.0889\n",
      "Epoch 18/128\n",
      "1563/1563 - 18s - 11ms/step - accuracy: 0.9092 - loss: 0.2536 - val_accuracy: 0.6217 - val_loss: 2.1078\n",
      "Epoch 19/128\n",
      "1563/1563 - 18s - 12ms/step - accuracy: 0.9129 - loss: 0.2403 - val_accuracy: 0.6117 - val_loss: 2.2566\n",
      "Epoch 20/128\n",
      "1563/1563 - 18s - 12ms/step - accuracy: 0.9199 - loss: 0.2223 - val_accuracy: 0.6191 - val_loss: 2.3108\n",
      "Epoch 21/128\n",
      "1563/1563 - 18s - 12ms/step - accuracy: 0.9226 - loss: 0.2146 - val_accuracy: 0.6142 - val_loss: 2.4569\n",
      "Epoch 22/128\n",
      "1563/1563 - 17s - 11ms/step - accuracy: 0.9259 - loss: 0.2012 - val_accuracy: 0.6190 - val_loss: 2.5058\n",
      "Epoch 23/128\n",
      "1563/1563 - 18s - 12ms/step - accuracy: 0.9273 - loss: 0.2006 - val_accuracy: 0.6077 - val_loss: 2.6564\n",
      "Epoch 24/128\n",
      "1563/1563 - 19s - 12ms/step - accuracy: 0.9358 - loss: 0.1795 - val_accuracy: 0.6139 - val_loss: 2.7387\n",
      "Epoch 25/128\n",
      "1563/1563 - 18s - 12ms/step - accuracy: 0.9343 - loss: 0.1858 - val_accuracy: 0.6116 - val_loss: 2.9242\n",
      "Epoch 26/128\n",
      "1563/1563 - 19s - 12ms/step - accuracy: 0.9388 - loss: 0.1708 - val_accuracy: 0.6156 - val_loss: 2.9984\n",
      "Epoch 27/128\n",
      "1563/1563 - 20s - 13ms/step - accuracy: 0.9413 - loss: 0.1637 - val_accuracy: 0.6069 - val_loss: 3.0460\n",
      "Epoch 28/128\n",
      "1563/1563 - 31s - 20ms/step - accuracy: 0.9393 - loss: 0.1706 - val_accuracy: 0.6073 - val_loss: 3.1998\n",
      "Epoch 29/128\n",
      "1563/1563 - 28s - 18ms/step - accuracy: 0.9433 - loss: 0.1609 - val_accuracy: 0.6069 - val_loss: 3.2895\n",
      "Epoch 30/128\n",
      "1563/1563 - 22s - 14ms/step - accuracy: 0.9441 - loss: 0.1599 - val_accuracy: 0.6137 - val_loss: 3.3471\n",
      "Epoch 31/128\n",
      "1563/1563 - 20s - 13ms/step - accuracy: 0.9478 - loss: 0.1483 - val_accuracy: 0.6050 - val_loss: 3.4061\n",
      "Epoch 32/128\n",
      "1563/1563 - 18s - 11ms/step - accuracy: 0.9453 - loss: 0.1572 - val_accuracy: 0.6100 - val_loss: 3.5214\n",
      "Epoch 33/128\n",
      "1563/1563 - 19s - 12ms/step - accuracy: 0.9475 - loss: 0.1525 - val_accuracy: 0.6104 - val_loss: 3.6420\n",
      "Epoch 34/128\n",
      "1563/1563 - 19s - 12ms/step - accuracy: 0.9488 - loss: 0.1469 - val_accuracy: 0.6136 - val_loss: 3.6723\n",
      "Epoch 35/128\n",
      "1563/1563 - 19s - 12ms/step - accuracy: 0.9501 - loss: 0.1467 - val_accuracy: 0.6197 - val_loss: 3.8146\n",
      "Epoch 36/128\n",
      "1563/1563 - 19s - 12ms/step - accuracy: 0.9509 - loss: 0.1458 - val_accuracy: 0.6138 - val_loss: 3.9760\n",
      "Epoch 37/128\n",
      "1563/1563 - 17s - 11ms/step - accuracy: 0.9513 - loss: 0.1451 - val_accuracy: 0.6056 - val_loss: 4.0773\n",
      "Epoch 38/128\n",
      "1563/1563 - 20s - 13ms/step - accuracy: 0.9530 - loss: 0.1427 - val_accuracy: 0.6072 - val_loss: 4.1820\n",
      "Epoch 39/128\n",
      "1563/1563 - 21s - 14ms/step - accuracy: 0.9524 - loss: 0.1407 - val_accuracy: 0.6122 - val_loss: 4.1739\n",
      "Epoch 40/128\n",
      "1563/1563 - 17s - 11ms/step - accuracy: 0.9551 - loss: 0.1368 - val_accuracy: 0.6102 - val_loss: 4.2809\n",
      "Epoch 41/128\n",
      "1563/1563 - 19s - 12ms/step - accuracy: 0.9561 - loss: 0.1338 - val_accuracy: 0.6091 - val_loss: 4.3270\n",
      "Epoch 42/128\n",
      "1563/1563 - 19s - 12ms/step - accuracy: 0.9552 - loss: 0.1405 - val_accuracy: 0.6107 - val_loss: 4.4836\n",
      "Epoch 43/128\n",
      "1563/1563 - 19s - 12ms/step - accuracy: 0.9554 - loss: 0.1381 - val_accuracy: 0.6071 - val_loss: 4.5708\n",
      "Epoch 44/128\n",
      "1563/1563 - 17s - 11ms/step - accuracy: 0.9575 - loss: 0.1322 - val_accuracy: 0.6112 - val_loss: 4.6480\n",
      "Epoch 45/128\n",
      "1563/1563 - 18s - 11ms/step - accuracy: 0.9563 - loss: 0.1367 - val_accuracy: 0.6154 - val_loss: 4.7708\n",
      "Epoch 46/128\n",
      "1563/1563 - 18s - 11ms/step - accuracy: 0.9583 - loss: 0.1325 - val_accuracy: 0.6053 - val_loss: 4.9715\n",
      "Epoch 47/128\n",
      "1563/1563 - 16s - 11ms/step - accuracy: 0.9595 - loss: 0.1306 - val_accuracy: 0.6088 - val_loss: 4.8579\n",
      "Epoch 48/128\n",
      "1563/1563 - 20s - 13ms/step - accuracy: 0.9580 - loss: 0.1369 - val_accuracy: 0.6099 - val_loss: 4.9278\n",
      "Epoch 49/128\n",
      "1563/1563 - 18s - 12ms/step - accuracy: 0.9608 - loss: 0.1288 - val_accuracy: 0.6134 - val_loss: 5.0525\n",
      "Epoch 50/128\n",
      "1563/1563 - 19s - 12ms/step - accuracy: 0.9594 - loss: 0.1325 - val_accuracy: 0.6063 - val_loss: 5.1535\n",
      "Epoch 51/128\n",
      "1563/1563 - 18s - 11ms/step - accuracy: 0.9618 - loss: 0.1274 - val_accuracy: 0.6069 - val_loss: 5.1429\n",
      "Epoch 52/128\n",
      "1563/1563 - 20s - 13ms/step - accuracy: 0.9622 - loss: 0.1281 - val_accuracy: 0.6068 - val_loss: 5.3139\n",
      "Epoch 53/128\n",
      "1563/1563 - 21s - 13ms/step - accuracy: 0.9622 - loss: 0.1309 - val_accuracy: 0.6076 - val_loss: 5.4988\n",
      "Epoch 54/128\n",
      "1563/1563 - 23s - 15ms/step - accuracy: 0.9598 - loss: 0.1376 - val_accuracy: 0.6046 - val_loss: 5.5814\n",
      "Epoch 55/128\n",
      "1563/1563 - 23s - 15ms/step - accuracy: 0.9640 - loss: 0.1213 - val_accuracy: 0.6097 - val_loss: 5.6776\n",
      "Epoch 56/128\n",
      "1563/1563 - 21s - 14ms/step - accuracy: 0.9624 - loss: 0.1277 - val_accuracy: 0.6076 - val_loss: 5.6211\n",
      "Epoch 57/128\n",
      "1563/1563 - 18s - 11ms/step - accuracy: 0.9627 - loss: 0.1315 - val_accuracy: 0.6130 - val_loss: 5.7501\n",
      "Epoch 58/128\n",
      "1563/1563 - 21s - 13ms/step - accuracy: 0.9624 - loss: 0.1290 - val_accuracy: 0.6037 - val_loss: 5.9129\n",
      "Epoch 59/128\n",
      "1563/1563 - 19s - 12ms/step - accuracy: 0.9642 - loss: 0.1289 - val_accuracy: 0.6167 - val_loss: 5.9356\n",
      "Epoch 60/128\n",
      "1563/1563 - 17s - 11ms/step - accuracy: 0.9653 - loss: 0.1272 - val_accuracy: 0.6124 - val_loss: 6.0002\n",
      "Epoch 61/128\n",
      "1563/1563 - 18s - 12ms/step - accuracy: 0.9647 - loss: 0.1273 - val_accuracy: 0.6184 - val_loss: 6.0653\n",
      "Epoch 62/128\n",
      "1563/1563 - 19s - 12ms/step - accuracy: 0.9635 - loss: 0.1321 - val_accuracy: 0.6178 - val_loss: 6.4083\n",
      "Epoch 63/128\n",
      "1563/1563 - 18s - 11ms/step - accuracy: 0.9638 - loss: 0.1284 - val_accuracy: 0.6138 - val_loss: 6.3618\n",
      "Epoch 64/128\n",
      "1563/1563 - 26s - 17ms/step - accuracy: 0.9677 - loss: 0.1184 - val_accuracy: 0.6130 - val_loss: 6.5349\n",
      "Epoch 65/128\n",
      "1563/1563 - 20s - 13ms/step - accuracy: 0.9658 - loss: 0.1222 - val_accuracy: 0.6073 - val_loss: 6.6826\n",
      "Epoch 66/128\n",
      "1563/1563 - 18s - 12ms/step - accuracy: 0.9650 - loss: 0.1337 - val_accuracy: 0.6075 - val_loss: 6.8219\n",
      "Epoch 67/128\n",
      "1563/1563 - 18s - 11ms/step - accuracy: 0.9647 - loss: 0.1369 - val_accuracy: 0.6126 - val_loss: 6.6665\n",
      "Epoch 68/128\n",
      "1563/1563 - 16s - 10ms/step - accuracy: 0.9643 - loss: 0.1385 - val_accuracy: 0.6157 - val_loss: 6.8627\n",
      "Epoch 69/128\n",
      "1563/1563 - 19s - 12ms/step - accuracy: 0.9674 - loss: 0.1203 - val_accuracy: 0.6113 - val_loss: 6.8637\n",
      "Epoch 70/128\n",
      "1563/1563 - 21s - 13ms/step - accuracy: 0.9648 - loss: 0.1405 - val_accuracy: 0.6051 - val_loss: 7.1765\n",
      "Epoch 71/128\n",
      "1563/1563 - 21s - 14ms/step - accuracy: 0.9670 - loss: 0.1260 - val_accuracy: 0.6151 - val_loss: 7.1238\n",
      "Epoch 72/128\n",
      "1563/1563 - 21s - 13ms/step - accuracy: 0.9664 - loss: 0.1315 - val_accuracy: 0.6080 - val_loss: 7.2786\n",
      "Epoch 73/128\n",
      "1563/1563 - 19s - 12ms/step - accuracy: 0.9694 - loss: 0.1255 - val_accuracy: 0.6138 - val_loss: 7.4513\n",
      "Epoch 74/128\n",
      "1563/1563 - 20s - 13ms/step - accuracy: 0.9678 - loss: 0.1303 - val_accuracy: 0.6011 - val_loss: 7.4168\n",
      "Epoch 75/128\n",
      "1563/1563 - 19s - 12ms/step - accuracy: 0.9690 - loss: 0.1225 - val_accuracy: 0.6112 - val_loss: 7.6118\n",
      "Epoch 76/128\n",
      "1563/1563 - 19s - 12ms/step - accuracy: 0.9690 - loss: 0.1247 - val_accuracy: 0.6049 - val_loss: 7.4534\n",
      "Epoch 77/128\n",
      "1563/1563 - 19s - 12ms/step - accuracy: 0.9668 - loss: 0.1390 - val_accuracy: 0.6019 - val_loss: 7.8127\n",
      "Epoch 78/128\n",
      "1563/1563 - 22s - 14ms/step - accuracy: 0.9692 - loss: 0.1308 - val_accuracy: 0.6042 - val_loss: 7.9059\n",
      "Epoch 79/128\n",
      "1563/1563 - 19s - 12ms/step - accuracy: 0.9665 - loss: 0.1415 - val_accuracy: 0.6049 - val_loss: 7.8774\n",
      "Epoch 80/128\n",
      "1563/1563 - 19s - 12ms/step - accuracy: 0.9691 - loss: 0.1267 - val_accuracy: 0.6119 - val_loss: 8.0224\n",
      "Epoch 81/128\n",
      "1563/1563 - 18s - 11ms/step - accuracy: 0.9706 - loss: 0.1253 - val_accuracy: 0.6095 - val_loss: 7.9188\n",
      "Epoch 82/128\n",
      "1563/1563 - 18s - 12ms/step - accuracy: 0.9694 - loss: 0.1318 - val_accuracy: 0.6127 - val_loss: 7.8983\n",
      "Epoch 83/128\n",
      "1563/1563 - 17s - 11ms/step - accuracy: 0.9716 - loss: 0.1285 - val_accuracy: 0.6081 - val_loss: 8.4114\n",
      "Epoch 84/128\n",
      "1563/1563 - 18s - 11ms/step - accuracy: 0.9689 - loss: 0.1328 - val_accuracy: 0.6110 - val_loss: 8.5213\n",
      "Epoch 85/128\n",
      "1563/1563 - 17s - 11ms/step - accuracy: 0.9714 - loss: 0.1206 - val_accuracy: 0.6110 - val_loss: 8.4763\n",
      "Epoch 86/128\n",
      "1563/1563 - 19s - 12ms/step - accuracy: 0.9708 - loss: 0.1324 - val_accuracy: 0.6105 - val_loss: 8.5293\n",
      "Epoch 87/128\n",
      "1563/1563 - 20s - 13ms/step - accuracy: 0.9691 - loss: 0.1379 - val_accuracy: 0.6098 - val_loss: 8.8512\n",
      "Epoch 88/128\n",
      "1563/1563 - 33s - 21ms/step - accuracy: 0.9721 - loss: 0.1191 - val_accuracy: 0.6018 - val_loss: 8.8536\n",
      "Epoch 89/128\n",
      "1563/1563 - 39s - 25ms/step - accuracy: 0.9710 - loss: 0.1307 - val_accuracy: 0.6105 - val_loss: 8.8518\n",
      "Epoch 90/128\n",
      "1563/1563 - 16s - 10ms/step - accuracy: 0.9715 - loss: 0.1324 - val_accuracy: 0.6132 - val_loss: 8.8792\n",
      "Epoch 91/128\n",
      "1563/1563 - 13s - 8ms/step - accuracy: 0.9696 - loss: 0.1458 - val_accuracy: 0.6090 - val_loss: 9.0668\n",
      "Epoch 92/128\n",
      "1563/1563 - 12s - 8ms/step - accuracy: 0.9712 - loss: 0.1336 - val_accuracy: 0.6124 - val_loss: 9.1331\n",
      "Epoch 93/128\n",
      "1563/1563 - 14s - 9ms/step - accuracy: 0.9748 - loss: 0.1129 - val_accuracy: 0.6085 - val_loss: 9.4414\n",
      "Epoch 94/128\n",
      "1563/1563 - 13s - 8ms/step - accuracy: 0.9680 - loss: 0.1584 - val_accuracy: 0.6046 - val_loss: 9.5088\n",
      "Epoch 95/128\n",
      "1563/1563 - 14s - 9ms/step - accuracy: 0.9731 - loss: 0.1262 - val_accuracy: 0.6097 - val_loss: 9.5786\n",
      "Epoch 96/128\n",
      "1563/1563 - 12s - 8ms/step - accuracy: 0.9725 - loss: 0.1309 - val_accuracy: 0.6088 - val_loss: 9.9807\n",
      "Epoch 97/128\n",
      "1563/1563 - 12s - 8ms/step - accuracy: 0.9723 - loss: 0.1321 - val_accuracy: 0.5986 - val_loss: 9.8033\n",
      "Epoch 98/128\n",
      "1563/1563 - 19s - 12ms/step - accuracy: 0.9736 - loss: 0.1251 - val_accuracy: 0.6075 - val_loss: 9.8553\n",
      "Epoch 99/128\n",
      "1563/1563 - 14s - 9ms/step - accuracy: 0.9728 - loss: 0.1358 - val_accuracy: 0.6072 - val_loss: 9.9128\n",
      "Epoch 100/128\n",
      "1563/1563 - 13s - 8ms/step - accuracy: 0.9727 - loss: 0.1369 - val_accuracy: 0.6039 - val_loss: 10.0742\n",
      "Epoch 101/128\n",
      "1563/1563 - 12s - 7ms/step - accuracy: 0.9735 - loss: 0.1306 - val_accuracy: 0.6085 - val_loss: 10.0626\n",
      "Epoch 102/128\n",
      "1563/1563 - 13s - 8ms/step - accuracy: 0.9724 - loss: 0.1436 - val_accuracy: 0.6057 - val_loss: 10.2930\n",
      "Epoch 103/128\n",
      "1563/1563 - 12s - 8ms/step - accuracy: 0.9745 - loss: 0.1285 - val_accuracy: 0.6088 - val_loss: 10.3631\n",
      "Epoch 104/128\n",
      "1563/1563 - 13s - 9ms/step - accuracy: 0.9736 - loss: 0.1351 - val_accuracy: 0.6073 - val_loss: 10.3606\n",
      "Epoch 105/128\n",
      "1563/1563 - 12s - 8ms/step - accuracy: 0.9731 - loss: 0.1378 - val_accuracy: 0.6067 - val_loss: 10.5507\n",
      "Epoch 106/128\n",
      "1563/1563 - 13s - 8ms/step - accuracy: 0.9752 - loss: 0.1274 - val_accuracy: 0.6144 - val_loss: 10.6413\n",
      "Epoch 107/128\n",
      "1563/1563 - 14s - 9ms/step - accuracy: 0.9732 - loss: 0.1375 - val_accuracy: 0.6045 - val_loss: 10.9049\n",
      "Epoch 108/128\n",
      "1563/1563 - 14s - 9ms/step - accuracy: 0.9753 - loss: 0.1280 - val_accuracy: 0.6145 - val_loss: 10.9274\n",
      "Epoch 109/128\n",
      "1563/1563 - 13s - 9ms/step - accuracy: 0.9733 - loss: 0.1441 - val_accuracy: 0.6127 - val_loss: 10.9300\n",
      "Epoch 110/128\n",
      "1563/1563 - 16s - 10ms/step - accuracy: 0.9754 - loss: 0.1240 - val_accuracy: 0.6073 - val_loss: 11.3046\n",
      "Epoch 111/128\n",
      "1563/1563 - 27s - 17ms/step - accuracy: 0.9719 - loss: 0.1455 - val_accuracy: 0.6077 - val_loss: 11.4016\n",
      "Epoch 112/128\n",
      "1563/1563 - 27s - 17ms/step - accuracy: 0.9745 - loss: 0.1313 - val_accuracy: 0.6080 - val_loss: 11.5156\n",
      "Epoch 113/128\n",
      "1563/1563 - 23s - 14ms/step - accuracy: 0.9744 - loss: 0.1355 - val_accuracy: 0.6027 - val_loss: 11.6441\n",
      "Epoch 114/128\n",
      "1563/1563 - 25s - 16ms/step - accuracy: 0.9758 - loss: 0.1277 - val_accuracy: 0.6060 - val_loss: 11.4594\n",
      "Epoch 115/128\n",
      "1563/1563 - 21s - 14ms/step - accuracy: 0.9748 - loss: 0.1412 - val_accuracy: 0.6049 - val_loss: 11.6745\n",
      "Epoch 116/128\n",
      "1563/1563 - 19s - 12ms/step - accuracy: 0.9756 - loss: 0.1329 - val_accuracy: 0.6139 - val_loss: 11.7477\n",
      "Epoch 117/128\n",
      "1563/1563 - 22s - 14ms/step - accuracy: 0.9753 - loss: 0.1384 - val_accuracy: 0.6097 - val_loss: 12.0401\n",
      "Epoch 118/128\n",
      "1563/1563 - 43s - 28ms/step - accuracy: 0.9750 - loss: 0.1355 - val_accuracy: 0.6032 - val_loss: 11.9196\n",
      "Epoch 119/128\n",
      "1563/1563 - 20s - 13ms/step - accuracy: 0.9756 - loss: 0.1343 - val_accuracy: 0.6031 - val_loss: 12.1074\n",
      "Epoch 120/128\n",
      "1563/1563 - 20s - 13ms/step - accuracy: 0.9768 - loss: 0.1270 - val_accuracy: 0.6064 - val_loss: 12.3474\n",
      "Epoch 121/128\n",
      "1563/1563 - 20s - 13ms/step - accuracy: 0.9751 - loss: 0.1386 - val_accuracy: 0.6084 - val_loss: 12.6315\n",
      "Epoch 122/128\n",
      "1563/1563 - 41s - 26ms/step - accuracy: 0.9765 - loss: 0.1302 - val_accuracy: 0.6081 - val_loss: 12.3746\n",
      "Epoch 123/128\n",
      "1563/1563 - 34s - 22ms/step - accuracy: 0.9768 - loss: 0.1341 - val_accuracy: 0.6045 - val_loss: 12.7698\n",
      "Epoch 124/128\n",
      "1563/1563 - 23s - 15ms/step - accuracy: 0.9755 - loss: 0.1460 - val_accuracy: 0.6100 - val_loss: 13.0558\n",
      "Epoch 125/128\n",
      "1563/1563 - 17s - 11ms/step - accuracy: 0.9762 - loss: 0.1423 - val_accuracy: 0.6039 - val_loss: 13.3441\n",
      "Epoch 126/128\n",
      "1563/1563 - 19s - 12ms/step - accuracy: 0.9753 - loss: 0.1489 - val_accuracy: 0.6028 - val_loss: 13.0069\n",
      "Epoch 127/128\n",
      "1563/1563 - 13s - 8ms/step - accuracy: 0.9764 - loss: 0.1395 - val_accuracy: 0.6046 - val_loss: 13.3907\n",
      "Epoch 128/128\n",
      "1563/1563 - 15s - 9ms/step - accuracy: 0.9765 - loss: 0.1457 - val_accuracy: 0.6094 - val_loss: 13.0986\n"
     ]
    }
   ],
   "source": [
    "history = model.fit(\n",
    "    train_images, train_labels, validation_data =\n",
    "    (test_images, test_labels), epochs=EPOCHS,\n",
    "    batch_size=BATCH_SIZE, verbose=2, shuffle=True)\n"
   ]
  },
  {
   "cell_type": "code",
   "execution_count": 14,
   "metadata": {},
   "outputs": [
    {
     "data": {
      "image/png": "[encoded data removed]",
      "text/plain": [
       "<Figure size 432x288 with 1 Axes>"
      ]
     },
     "metadata": {
      "needs_background": "light"
     },
     "output_type": "display_data"
    }
   ],
   "source": [
    "import matplotlib\n",
    "from matplotlib import pyplot as plt\n",
    "plt.plot(history.history['accuracy']) \n",
    "plt.plot(history.history['val_accuracy'])\n",
    "plt.title('model accuracy')\n",
    "plt.ylabel('accuracy')\n",
    "plt.xlabel('epoch')\n",
    "plt.legend(['train erorr', 'test error'], loc='upper left')\n",
    "plt.show()\n"
   ]
  }
 ],
 "metadata": {
  "kernelspec": {
   "display_name": "Python 3",
   "language": "python",
   "name": "python3"
  },
  "language_info": {
   "codemirror_mode": {
    "name": "ipython",
    "version": 3
   },
   "file_extension": ".py",
   "mimetype": "text/x-python",
   "name": "python",
   "nbconvert_exporter": "python",
   "pygments_lexer": "ipython3",
   "version": "3.10.12"
  }
 },
 "nbformat": 4,
 "nbformat_minor": 2
}
