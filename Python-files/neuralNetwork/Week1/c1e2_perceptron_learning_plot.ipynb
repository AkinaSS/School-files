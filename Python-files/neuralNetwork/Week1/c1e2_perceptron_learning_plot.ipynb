{
 "cells": [
  {
   "cell_type": "code",
   "execution_count": 1,
   "metadata": {},
   "outputs": [
    {
     "data": {
      "text/plain": [
       "'\\nThe MIT License (MIT)\\nCopyright (c) 2021 NVIDIA\\nPermission is hereby granted, free of charge, to any person obtaining a copy of\\nthis software and associated documentation files (the \"Software\"), to deal in\\nthe Software without restriction, including without limitation the rights to\\nuse, copy, modify, merge, publish, distribute, sublicense, and/or sell copies of\\nthe Software, and to permit persons to whom the Software is furnished to do so,\\nsubject to the following conditions:\\nThe above copyright notice and this permission notice shall be included in all\\ncopies or substantial portions of the Software.\\nTHE SOFTWARE IS PROVIDED \"AS IS\", WITHOUT WARRANTY OF ANY KIND, EXPRESS OR\\nIMPLIED, INCLUDING BUT NOT LIMITED TO THE WARRANTIES OF MERCHANTABILITY, FITNESS\\nFOR A PARTICULAR PURPOSE AND NONINFRINGEMENT. IN NO EVENT SHALL THE AUTHORS OR\\nCOPYRIGHT HOLDERS BE LIABLE FOR ANY CLAIM, DAMAGES OR OTHER LIABILITY, WHETHER\\nIN AN ACTION OF CONTRACT, TORT OR OTHERWISE, ARISING FROM, OUT OF OR IN\\nCONNECTION WITH THE SOFTWARE OR THE USE OR OTHER DEALINGS IN THE SOFTWARE.\\n'"
      ]
     },
     "execution_count": 1,
     "metadata": {},
     "output_type": "execute_result"
    }
   ],
   "source": [
    "\"\"\"\n",
    "The MIT License (MIT)\n",
    "Copyright (c) 2021 NVIDIA\n",
    "Permission is hereby granted, free of charge, to any person obtaining a copy of\n",
    "this software and associated documentation files (the \"Software\"), to deal in\n",
    "the Software without restriction, including without limitation the rights to\n",
    "use, copy, modify, merge, publish, distribute, sublicense, and/or sell copies of\n",
    "the Software, and to permit persons to whom the Software is furnished to do so,\n",
    "subject to the following conditions:\n",
    "The above copyright notice and this permission notice shall be included in all\n",
    "copies or substantial portions of the Software.\n",
    "THE SOFTWARE IS PROVIDED \"AS IS\", WITHOUT WARRANTY OF ANY KIND, EXPRESS OR\n",
    "IMPLIED, INCLUDING BUT NOT LIMITED TO THE WARRANTIES OF MERCHANTABILITY, FITNESS\n",
    "FOR A PARTICULAR PURPOSE AND NONINFRINGEMENT. IN NO EVENT SHALL THE AUTHORS OR\n",
    "COPYRIGHT HOLDERS BE LIABLE FOR ANY CLAIM, DAMAGES OR OTHER LIABILITY, WHETHER\n",
    "IN AN ACTION OF CONTRACT, TORT OR OTHERWISE, ARISING FROM, OUT OF OR IN\n",
    "CONNECTION WITH THE SOFTWARE OR THE USE OR OTHER DEALINGS IN THE SOFTWARE.\n",
    "\"\"\"\n"
   ]
  },
  {
   "cell_type": "markdown",
   "metadata": {},
   "source": [
    "This code example is close to identical to c1e1_perceptron_learning but adds plotting of the learning process. More context for this code example can be found in the section \"The Perceptron Learning Algorithm\" in Chapter 1 in the book Learning Deep Learning by Magnus Ekman (ISBN: 9780137470358)."
   ]
  },
  {
   "cell_type": "markdown",
   "metadata": {},
   "source": [
    "In this code snippet, the function show_learning() has been extended to plot a graphical representation of the perceptron weights."
   ]
  },
  {
   "cell_type": "code",
   "execution_count": 2,
   "metadata": {},
   "outputs": [],
   "source": [
    "#pip install matplotlib\n",
    "import matplotlib.pyplot as plt\n",
    "import random\n",
    "\n",
    "# Define variables needed for plotting.\n",
    "color_list = ['r-', 'm-', 'y-', 'c-', 'b-', 'g-']\n",
    "color_index = 0\n",
    "\n",
    "def show_learning(w):\n",
    "    global color_index\n",
    "    print('w0 =', '%5.2f' % w[0], ', w1 =', '%5.2f' % w[1],\n",
    "          ', w2 =', '%5.2f' % w[2])\n",
    "    if color_index == 0:\n",
    "        plt.plot([1.0], [1.0], 'b_', markersize=12)\n",
    "        plt.plot([-1.0, 1.0, -1.0], [1.0, -1.0, -1.0],\n",
    "                 'r+', markersize=12)\n",
    "        plt.axis([-2, 2, -2, 2])\n",
    "        plt.xlabel('x1')\n",
    "        plt.ylabel('x2')\n",
    "    x = [-2.0, 2.0]\n",
    "    if abs(w[2]) < 1e-5:\n",
    "        y = [-w[1]/(1e-5)*(-2.0)+(-w[0]/(1e-5)),\n",
    "             -w[1]/(1e-5)*(2.0)+(-w[0]/(1e-5))]\n",
    "    else:\n",
    "        y = [-w[1]/w[2]*(-2.0)+(-w[0]/w[2]),\n",
    "             -w[1]/w[2]*(2.0)+(-w[0]/w[2])]\n",
    "    plt.plot(x, y, color_list[color_index])\n",
    "    if color_index < (len(color_list) - 1):\n",
    "        color_index += 1\n"
   ]
  },
  {
   "cell_type": "markdown",
   "metadata": {},
   "source": [
    "The remainder of the code below is unchanged compared to c1e1_perceptron_learning.\n"
   ]
  },
  {
   "cell_type": "code",
   "execution_count": 3,
   "metadata": {},
   "outputs": [
    {
     "name": "stdout",
     "output_type": "stream",
     "text": [
      "w0 =  0.20 , w1 = -0.60 , w2 =  0.25\n",
      "w0 =  0.30 , w1 = -0.50 , w2 =  0.15\n",
      "w0 =  0.40 , w1 = -0.40 , w2 =  0.05\n",
      "w0 =  0.30 , w1 = -0.50 , w2 = -0.05\n",
      "w0 =  0.40 , w1 = -0.40 , w2 = -0.15\n"
     ]
    },
    {
     "data": {
      "image/png": "[encoded data removed]",
      "text/plain": [
       "<Figure size 432x288 with 1 Axes>"
      ]
     },
     "metadata": {
      "needs_background": "light"
     },
     "output_type": "display_data"
    }
   ],
   "source": [
    "# Define variables needed to control training process.\n",
    "random.seed(7) # To make repeatable\n",
    "LEARNING_RATE = 0.1\n",
    "index_list = [0, 1, 2, 3] # Used to randomize order\n",
    "\n",
    "# Define training examples.\n",
    "x_train = [(1.0, -1.0, -1.0), (1.0, -1.0, 1.0),\n",
    "    (1.0, 1.0, -1.0), (1.0, 1.0, 1.0)] # Inputs\n",
    "y_train = [1.0, 1.0, 1.0, -1.0] # Output (ground truth)\n",
    "\n",
    "# Define perceptron weights.\n",
    "w = [0.2, -0.6, 0.25] # Initialize to some \"random\" numbers\n",
    "\n",
    "# Print initial weights.\n",
    "show_learning(w)\n",
    "\n",
    "# First element in vector x must be 1.\n",
    "# Length of w and x must be n+1 for neuron with n inputs.\n",
    "def compute_output(w, x):\n",
    "    z = 0.0\n",
    "    for i in range(len(w)):\n",
    "        z += x[i] * w[i] # Compute sum of weighted inputs\n",
    "    if z < 0: # Apply sign function\n",
    "        return -1\n",
    "    else:\n",
    "        return 1\n",
    "\n",
    "# Perceptron training loop.\n",
    "all_correct = False\n",
    "while not all_correct:\n",
    "    all_correct = True\n",
    "    random.shuffle(index_list) # Randomize order\n",
    "    for i in index_list:\n",
    "        x = x_train[i]\n",
    "        y = y_train[i]\n",
    "        p_out = compute_output(w, x) # Perceptron function\n",
    "        if y != p_out: # Update weights when wrong\n",
    "            for j in range(0, len(w)):\n",
    "                w[j] += (y * LEARNING_RATE * x[j])\n",
    "            all_correct = False\n",
    "            show_learning(w) # Show updated weights\n"
   ]
  }
 ],
 "metadata": {
  "kernelspec": {
   "display_name": "Python 3",
   "language": "python",
   "name": "python3"
  },
  "language_info": {
   "codemirror_mode": {
    "name": "ipython",
    "version": 3
   },
   "file_extension": ".py",
   "mimetype": "text/x-python",
   "name": "python",
   "nbconvert_exporter": "python",
   "pygments_lexer": "ipython3",
   "version": "3.10.12"
  }
 },
 "nbformat": 4,
 "nbformat_minor": 2
}
