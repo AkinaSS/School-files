{
 "cells": [
  {
   "cell_type": "markdown",
   "id": "482dd04d",
   "metadata": {},
   "source": [
    "Programming Example: Using LSTM for Text Autocompletion\n",
    "\n",
    "I choose to use Romeo and Juliet play by Shakespeare because it's one of the most download one in project Gutenberg, but I guess our LSTM doesn't mix well with old English, though it did a good job"
   ]
  },
  {
   "cell_type": "code",
   "execution_count": 13,
   "id": "319788de",
   "metadata": {},
   "outputs": [],
   "source": [
    "import numpy as np\n",
    "import tensorflow as tf\n",
    "from tensorflow import keras\n",
    "from keras.models import Sequential\n",
    "from keras.layers import Dense\n",
    "from keras.layers import LSTM\n",
    "import logging\n",
    "tf.get_logger().setLevel(logging.ERROR)\n",
    "\n",
    "# Configuration parameters for the LSTM model and training process\n",
    "EPOCHS = 32\n",
    "BATCH_SIZE = 256\n",
    "INPUT_FILE_NAME = './data/romeo_and_juliet.txt'\n",
    "WINDOW_LENGTH = 40\n",
    "WINDOW_STEP = 3\n",
    "BEAM_SIZE = 8\n",
    "NUM_LETTERS = 11\n",
    "MAX_LENGTH = 50"
   ]
  },
  {
   "cell_type": "code",
   "execution_count": 14,
   "id": "4dc0a7cc",
   "metadata": {},
   "outputs": [],
   "source": [
    "# Open the input file.\n",
    "file = open(INPUT_FILE_NAME, 'r', encoding='utf-8')\n",
    "text = file.read()\n",
    "file.close()\n",
    "# Make lowercase and remove newline and extra spaces.\n",
    "text = text.lower()\n",
    "text = text.replace('\\n', ' ')\n",
    "text = text.replace(' ', ' ')\n",
    "# Encode characters as indices.\n",
    "unique_chars = list(set(text))\n",
    "char_to_index = dict((ch, index) for index,\n",
    " ch in enumerate(unique_chars))\n",
    "index_to_char = dict((index, ch) for index,\n",
    " ch in enumerate(unique_chars))\n",
    "encoding_width = len(char_to_index)"
   ]
  },
  {
   "cell_type": "code",
   "execution_count": 15,
   "id": "0873ca07",
   "metadata": {},
   "outputs": [],
   "source": [
    "# Create training examples.\n",
    "fragments = []\n",
    "targets = []\n",
    "for i in range(0, len(text) - WINDOW_LENGTH, WINDOW_STEP):\n",
    "    fragments.append(text[i: i + WINDOW_LENGTH])\n",
    "    targets.append(text[i + WINDOW_LENGTH])\n",
    "# Convert to one-hot encoded training data.\n",
    "X = np.zeros((len(fragments), WINDOW_LENGTH, encoding_width))\n",
    "y = np.zeros((len(fragments), encoding_width))\n",
    "for i, fragment in enumerate(fragments):\n",
    "    for j, char in enumerate(fragment):\n",
    "        X[i, j, char_to_index[char]] = 1\n",
    "        target_char = targets[i]\n",
    "        y[i, char_to_index[target_char]] = 1"
   ]
  },
  {
   "cell_type": "code",
   "execution_count": null,
   "id": "2bca410e",
   "metadata": {},
   "outputs": [
    {
     "data": {
      "text/html": [
       "<pre style=\"white-space:pre;overflow-x:auto;line-height:normal;font-family:Menlo,'DejaVu Sans Mono',consolas,'Courier New',monospace\"><span style=\"font-weight: bold\">Model: \"sequential_1\"</span>\n",
       "</pre>\n"
      ],
      "text/plain": [
       "\u001b[1mModel: \"sequential_1\"\u001b[0m\n"
      ]
     },
     "metadata": {},
     "output_type": "display_data"
    },
    {
     "data": {
      "text/html": [
       "<pre style=\"white-space:pre;overflow-x:auto;line-height:normal;font-family:Menlo,'DejaVu Sans Mono',consolas,'Courier New',monospace\">┏━━━━━━━━━━━━━━━━━━━━━━━━━━━━━━━━━┳━━━━━━━━━━━━━━━━━━━━━━━━┳━━━━━━━━━━━━━━━┓\n",
       "┃<span style=\"font-weight: bold\"> Layer (type)                    </span>┃<span style=\"font-weight: bold\"> Output Shape           </span>┃<span style=\"font-weight: bold\">       Param # </span>┃\n",
       "┡━━━━━━━━━━━━━━━━━━━━━━━━━━━━━━━━━╇━━━━━━━━━━━━━━━━━━━━━━━━╇━━━━━━━━━━━━━━━┩\n",
       "│ lstm_2 (<span style=\"color: #0087ff; text-decoration-color: #0087ff\">LSTM</span>)                   │ (<span style=\"color: #00d7ff; text-decoration-color: #00d7ff\">None</span>, <span style=\"color: #00d7ff; text-decoration-color: #00d7ff\">None</span>, <span style=\"color: #00af00; text-decoration-color: #00af00\">128</span>)      │        <span style=\"color: #00af00; text-decoration-color: #00af00\">98,816</span> │\n",
       "├─────────────────────────────────┼────────────────────────┼───────────────┤\n",
       "│ lstm_3 (<span style=\"color: #0087ff; text-decoration-color: #0087ff\">LSTM</span>)                   │ (<span style=\"color: #00d7ff; text-decoration-color: #00d7ff\">None</span>, <span style=\"color: #00af00; text-decoration-color: #00af00\">128</span>)            │       <span style=\"color: #00af00; text-decoration-color: #00af00\">131,584</span> │\n",
       "├─────────────────────────────────┼────────────────────────┼───────────────┤\n",
       "│ dense_1 (<span style=\"color: #0087ff; text-decoration-color: #0087ff\">Dense</span>)                 │ (<span style=\"color: #00d7ff; text-decoration-color: #00d7ff\">None</span>, <span style=\"color: #00af00; text-decoration-color: #00af00\">64</span>)             │         <span style=\"color: #00af00; text-decoration-color: #00af00\">8,256</span> │\n",
       "└─────────────────────────────────┴────────────────────────┴───────────────┘\n",
       "</pre>\n"
      ],
      "text/plain": [
       "┏━━━━━━━━━━━━━━━━━━━━━━━━━━━━━━━━━┳━━━━━━━━━━━━━━━━━━━━━━━━┳━━━━━━━━━━━━━━━┓\n",
       "┃\u001b[1m \u001b[0m\u001b[1mLayer (type)                   \u001b[0m\u001b[1m \u001b[0m┃\u001b[1m \u001b[0m\u001b[1mOutput Shape          \u001b[0m\u001b[1m \u001b[0m┃\u001b[1m \u001b[0m\u001b[1m      Param #\u001b[0m\u001b[1m \u001b[0m┃\n",
       "┡━━━━━━━━━━━━━━━━━━━━━━━━━━━━━━━━━╇━━━━━━━━━━━━━━━━━━━━━━━━╇━━━━━━━━━━━━━━━┩\n",
       "│ lstm_2 (\u001b[38;5;33mLSTM\u001b[0m)                   │ (\u001b[38;5;45mNone\u001b[0m, \u001b[38;5;45mNone\u001b[0m, \u001b[38;5;34m128\u001b[0m)      │        \u001b[38;5;34m98,816\u001b[0m │\n",
       "├─────────────────────────────────┼────────────────────────┼───────────────┤\n",
       "│ lstm_3 (\u001b[38;5;33mLSTM\u001b[0m)                   │ (\u001b[38;5;45mNone\u001b[0m, \u001b[38;5;34m128\u001b[0m)            │       \u001b[38;5;34m131,584\u001b[0m │\n",
       "├─────────────────────────────────┼────────────────────────┼───────────────┤\n",
       "│ dense_1 (\u001b[38;5;33mDense\u001b[0m)                 │ (\u001b[38;5;45mNone\u001b[0m, \u001b[38;5;34m64\u001b[0m)             │         \u001b[38;5;34m8,256\u001b[0m │\n",
       "└─────────────────────────────────┴────────────────────────┴───────────────┘\n"
      ]
     },
     "metadata": {},
     "output_type": "display_data"
    },
    {
     "data": {
      "text/html": [
       "<pre style=\"white-space:pre;overflow-x:auto;line-height:normal;font-family:Menlo,'DejaVu Sans Mono',consolas,'Courier New',monospace\"><span style=\"font-weight: bold\"> Total params: </span><span style=\"color: #00af00; text-decoration-color: #00af00\">238,656</span> (932.25 KB)\n",
       "</pre>\n"
      ],
      "text/plain": [
       "\u001b[1m Total params: \u001b[0m\u001b[38;5;34m238,656\u001b[0m (932.25 KB)\n"
      ]
     },
     "metadata": {},
     "output_type": "display_data"
    },
    {
     "data": {
      "text/html": [
       "<pre style=\"white-space:pre;overflow-x:auto;line-height:normal;font-family:Menlo,'DejaVu Sans Mono',consolas,'Courier New',monospace\"><span style=\"font-weight: bold\"> Trainable params: </span><span style=\"color: #00af00; text-decoration-color: #00af00\">238,656</span> (932.25 KB)\n",
       "</pre>\n"
      ],
      "text/plain": [
       "\u001b[1m Trainable params: \u001b[0m\u001b[38;5;34m238,656\u001b[0m (932.25 KB)\n"
      ]
     },
     "metadata": {},
     "output_type": "display_data"
    },
    {
     "data": {
      "text/html": [
       "<pre style=\"white-space:pre;overflow-x:auto;line-height:normal;font-family:Menlo,'DejaVu Sans Mono',consolas,'Courier New',monospace\"><span style=\"font-weight: bold\"> Non-trainable params: </span><span style=\"color: #00af00; text-decoration-color: #00af00\">0</span> (0.00 B)\n",
       "</pre>\n"
      ],
      "text/plain": [
       "\u001b[1m Non-trainable params: \u001b[0m\u001b[38;5;34m0\u001b[0m (0.00 B)\n"
      ]
     },
     "metadata": {},
     "output_type": "display_data"
    },
    {
     "name": "stdout",
     "output_type": "stream",
     "text": [
      "Epoch 1/32\n",
      "201/201 - 72s - 359ms/step - loss: 3.0489 - val_loss: 3.0669\n",
      "Epoch 2/32\n",
      "201/201 - 61s - 304ms/step - loss: 2.8077 - val_loss: 2.8123\n",
      "Epoch 3/32\n",
      "201/201 - 56s - 280ms/step - loss: 2.5654 - val_loss: 2.6813\n",
      "Epoch 4/32\n",
      "201/201 - 54s - 269ms/step - loss: 2.4732 - val_loss: 2.6564\n",
      "Epoch 5/32\n",
      "201/201 - 52s - 260ms/step - loss: 2.4038 - val_loss: 2.6413\n",
      "Epoch 6/32\n",
      "201/201 - 72s - 361ms/step - loss: 2.3516 - val_loss: 2.5597\n",
      "Epoch 7/32\n",
      "201/201 - 64s - 319ms/step - loss: 2.3005 - val_loss: 2.5736\n",
      "Epoch 8/32\n",
      "201/201 - 55s - 272ms/step - loss: 2.2584 - val_loss: 2.5055\n",
      "Epoch 9/32\n",
      "201/201 - 66s - 326ms/step - loss: 2.2255 - val_loss: 2.4920\n",
      "Epoch 10/32\n",
      "201/201 - 58s - 291ms/step - loss: 2.1953 - val_loss: 2.4891\n",
      "Epoch 11/32\n",
      "201/201 - 81s - 401ms/step - loss: 2.1638 - val_loss: 2.4584\n",
      "Epoch 12/32\n",
      "201/201 - 59s - 291ms/step - loss: 2.1400 - val_loss: 2.4244\n",
      "Epoch 13/32\n",
      "201/201 - 64s - 320ms/step - loss: 2.1123 - val_loss: 2.4059\n",
      "Epoch 14/32\n",
      "201/201 - 64s - 319ms/step - loss: 2.0883 - val_loss: 2.4217\n",
      "Epoch 15/32\n",
      "201/201 - 68s - 336ms/step - loss: 2.0635 - val_loss: 2.3666\n",
      "Epoch 16/32\n",
      "201/201 - 51s - 254ms/step - loss: 2.0481 - val_loss: 2.3548\n",
      "Epoch 17/32\n",
      "201/201 - 29s - 143ms/step - loss: 2.0298 - val_loss: 2.3504\n",
      "Epoch 18/32\n",
      "201/201 - 35s - 172ms/step - loss: 2.0099 - val_loss: 2.3107\n",
      "Epoch 19/32\n",
      "201/201 - 46s - 228ms/step - loss: 1.9934 - val_loss: 2.2990\n",
      "Epoch 20/32\n",
      "201/201 - 42s - 211ms/step - loss: 1.9796 - val_loss: 2.2957\n",
      "Epoch 21/32\n",
      "201/201 - 45s - 222ms/step - loss: 1.9604 - val_loss: 2.2857\n",
      "Epoch 22/32\n",
      "201/201 - 41s - 202ms/step - loss: 1.9500 - val_loss: 2.2601\n",
      "Epoch 23/32\n"
     ]
    }
   ],
   "source": [
    "# Build and train model.\n",
    "model = Sequential()\n",
    "model.add(keras.Input(shape=(None, encoding_width)))\n",
    "model.add(LSTM(128, return_sequences=True,\n",
    " dropout=0.2, recurrent_dropout=0.2))\n",
    "model.add(LSTM(128, dropout=0.2,\n",
    " recurrent_dropout=0.2))\n",
    "model.add(Dense(encoding_width, activation='softmax'))\n",
    "model.compile(loss='categorical_crossentropy',\n",
    " optimizer='adam')\n",
    "model.summary()\n",
    "history = model.fit(X, y, validation_split=0.05,\n",
    " batch_size=BATCH_SIZE,\n",
    " epochs=EPOCHS, verbose=2,\n",
    " shuffle=True)"
   ]
  },
  {
   "cell_type": "code",
   "execution_count": null,
   "id": "8c6df09d",
   "metadata": {},
   "outputs": [
    {
     "name": "stdout",
     "output_type": "stream",
     "text": [
      "romeo the capulet\n",
      "romeo the will th\n",
      "romeo the with th\n",
      "romeo that is the\n",
      "romeo the will to\n",
      "romeo the will an\n",
      "romeo the will me\n",
      "romeo the will a \n"
     ]
    }
   ],
   "source": [
    "# Create initial single beam represented by triplet\n",
    "# (probability , string , one-hot encoded string).\n",
    "letters = 'romeo '\n",
    "one_hots = []\n",
    "for i, char in enumerate(letters):\n",
    "    x = np.zeros(encoding_width)\n",
    "    x[char_to_index[char]] = 1\n",
    "    one_hots.append(x)\n",
    "beams = [(np.log(1.0), letters, one_hots)]\n",
    "# Predict NUM_LETTERS into the future.\n",
    "for i in range(NUM_LETTERS):\n",
    "    minibatch_list = []\n",
    "    # Create minibatch from one-hot encodings, and predict.\n",
    "    for triple in beams:\n",
    "        minibatch_list.append(triple[2])\n",
    "    minibatch = np.array(minibatch_list)\n",
    "    y_predict = model.predict(minibatch, verbose=0)\n",
    "    new_beams = []\n",
    "    for j, softmax_vec in enumerate(y_predict):\n",
    "        triple = beams[j]\n",
    "        # Create BEAM_SIZE new beams from each existing beam.\n",
    "        for k in range(BEAM_SIZE):\n",
    "            char_index = np.argmax(softmax_vec)\n",
    "            new_prob = triple[0] + np.log(softmax_vec[char_index])\n",
    "            new_letters = triple[1] + index_to_char[char_index]\n",
    "            x = np.zeros(encoding_width)\n",
    "            x[char_index] = 1\n",
    "            new_one_hots = triple[2].copy()\n",
    "            new_one_hots.append(x)\n",
    "            new_beams.append((new_prob, new_letters, new_one_hots))\n",
    "            softmax_vec[char_index] = 0\n",
    "    # Prune tree to only keep BEAM_SIZE most probable beams.\n",
    "    new_beams.sort(key=lambda tup: tup[0], reverse=True)\n",
    "    beams = new_beams[0:BEAM_SIZE]\n",
    "for item in beams:\n",
    "    print(item[1])"
   ]
  }
 ],
 "metadata": {
  "kernelspec": {
   "display_name": "Python 3",
   "language": "python",
   "name": "python3"
  },
  "language_info": {
   "codemirror_mode": {
    "name": "ipython",
    "version": 3
   },
   "file_extension": ".py",
   "mimetype": "text/x-python",
   "name": "python",
   "nbconvert_exporter": "python",
   "pygments_lexer": "ipython3",
   "version": "3.10.12"
  }
 },
 "nbformat": 4,
 "nbformat_minor": 5
}
