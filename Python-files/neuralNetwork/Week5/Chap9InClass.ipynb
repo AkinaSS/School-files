{
 "cells": [
  {
   "cell_type": "code",
   "execution_count": 20,
   "id": "00ee87c7",
   "metadata": {},
   "outputs": [],
   "source": [
    "import re\n",
    "import os\n",
    "import requests\n",
    "import tensorflow as tf\n",
    "from tensorflow import keras\n",
    "import matplotlib.pyplot as plt\n",
    "import numpy as np\n",
    "import collections\n",
    "\n",
    "class TimeMachine:\n",
    "    \"\"\"The Time Machine dataset implemented with Keras.\"\"\"\n",
    "    \n",
    "    def __init__(self, root='./data'):\n",
    "        self.root = root\n",
    "        os.makedirs(root, exist_ok=True)\n",
    "        \n",
    "    def download(self):\n",
    "        \"\"\"Download the Time Machine dataset.\"\"\"\n",
    "        url = 'https://d2l-data.s3-accelerate.amazonaws.com/timemachine.txt'\n",
    "        file_path = os.path.join(self.root, 'timemachine.txt')\n",
    "        \n",
    "        # Only download if the file doesn't exist\n",
    "        if not os.path.exists(file_path):\n",
    "            print(f\"Downloading {url} to {file_path}...\")\n",
    "            response = requests.get(url)\n",
    "            with open(file_path, 'wb') as f:\n",
    "                f.write(response.content)\n",
    "            print(\"Download complete.\")\n",
    "        \n",
    "        # Read the downloaded text file\n",
    "        with open(file_path, 'r') as f:\n",
    "            return f.read()\n",
    "            \n",
    "    def preprocess(self, text):\n",
    "        \"\"\"Preprocess the text by converting to lowercase and replacing non-alphabetic characters with spaces.\"\"\"\n",
    "        return re.sub('[^A-Za-z]+', ' ', text).lower()\n",
    "       \n",
    "    def tokenize(self, text):\n",
    "        \"\"\"Tokenize text into individual characters.\"\"\"\n",
    "        return list(text)\n",
    "    \n",
    "    def build(self, raw_text, vocab=None):\n",
    "        \"\"\"Build the vocabulary and corpus from raw text.\"\"\"\n",
    "        tokens = self.tokenize(self.preprocess(raw_text))\n",
    "        if vocab is None: \n",
    "            vocab = Vocab(tokens)\n",
    "        corpus = [vocab[token] for token in tokens]\n",
    "        return corpus, vocab\n",
    "    \n",
    "    def plot_token_freqs(self):\n",
    "        \"\"\"Plot token frequencies on a log-log scale using matplotlib.\"\"\"\n",
    "        freqs = [freq for token, freq in self.token_freqs]\n",
    "        \n",
    "        plt.figure(figsize=(10, 6))\n",
    "        plt.loglog(np.arange(1, len(freqs) + 1), freqs)\n",
    "        plt.xlabel('token: x')\n",
    "        plt.ylabel('frequency: n(x)')\n",
    "        plt.title('Token Frequency Distribution')\n",
    "        plt.grid(True, alpha=0.3)\n",
    "        plt.show()\n",
    "\n",
    "# Create an instance and download the data\n",
    "data = TimeMachine()\n",
    "raw_text = data.download()\n",
    "\n"
   ]
  },
  {
   "cell_type": "code",
   "execution_count": 21,
   "id": "7e5d7189",
   "metadata": {},
   "outputs": [
    {
     "name": "stdout",
     "output_type": "stream",
     "text": [
      "the time machine by h g wells i the time traveller for so it\n"
     ]
    }
   ],
   "source": [
    "# Preprocess the text\n",
    "text = data.preprocess(raw_text)\n",
    "print(text[:60])  # Display the first 60 characters"
   ]
  },
  {
   "cell_type": "code",
   "execution_count": 22,
   "id": "98d925dc",
   "metadata": {},
   "outputs": [
    {
     "name": "stdout",
     "output_type": "stream",
     "text": [
      "t,h,e, ,t,i,m,e, ,m,a,c,h,i,n,e, ,b,y, ,h, ,g, ,w,e,l,l,s, \n"
     ]
    }
   ],
   "source": [
    "# Tokenize the text\n",
    "tokens = data.tokenize(text)\n",
    "print(','.join(tokens[:30]))  # Display the first 30 tokens joined by commas"
   ]
  },
  {
   "cell_type": "code",
   "execution_count": 23,
   "id": "a56ff733",
   "metadata": {},
   "outputs": [],
   "source": [
    "class Vocab:  #@save\n",
    "    \"\"\"Vocabulary for text.\"\"\"\n",
    "    def __init__(self, tokens=[], min_freq=0, reserved_tokens=[]):\n",
    "        # Flatten a 2D list if needed\n",
    "        if tokens and isinstance(tokens[0], list):\n",
    "            tokens = [token for line in tokens for token in line]\n",
    "        # Count token frequencies\n",
    "        counter = collections.Counter(tokens)\n",
    "        self.token_freqs = sorted(counter.items(), key=lambda x: x[1],\n",
    "                                  reverse=True)\n",
    "        # The list of unique tokens\n",
    "        self.idx_to_token = list(sorted(set(['<unk>'] + reserved_tokens + [\n",
    "            token for token, freq in self.token_freqs if freq >= min_freq])))\n",
    "        self.token_to_idx = {token: idx\n",
    "                             for idx, token in enumerate(self.idx_to_token)}\n",
    "\n",
    "    def __len__(self):\n",
    "        return len(self.idx_to_token)\n",
    "\n",
    "    def __getitem__(self, tokens):\n",
    "        if not isinstance(tokens, (list, tuple)):\n",
    "            return self.token_to_idx.get(tokens, self.unk)\n",
    "        return [self.__getitem__(token) for token in tokens]\n",
    "\n",
    "    def to_tokens(self, indices):\n",
    "        if hasattr(indices, '__len__') and len(indices) > 1:\n",
    "            return [self.idx_to_token[int(index)] for index in indices]\n",
    "        return self.idx_to_token[indices]\n",
    "\n",
    "    @property\n",
    "    def unk(self):  # Index for the unknown token\n",
    "        return self.token_to_idx['<unk>']\n"
   ]
  },
  {
   "cell_type": "code",
   "execution_count": 24,
   "id": "09a9a280",
   "metadata": {},
   "outputs": [
    {
     "name": "stdout",
     "output_type": "stream",
     "text": [
      "indices: [21, 9, 6, 0, 21, 10, 14, 6, 0, 14]\n",
      "words: ['t', 'h', 'e', ' ', 't', 'i', 'm', 'e', ' ', 'm']\n"
     ]
    }
   ],
   "source": [
    "vocab = Vocab(tokens)\n",
    "indices = vocab[tokens[:10]]\n",
    "print('indices:', indices)\n",
    "print('words:', vocab.to_tokens(indices))"
   ]
  },
  {
   "cell_type": "code",
   "execution_count": 25,
   "id": "114ed1d1",
   "metadata": {},
   "outputs": [
    {
     "name": "stdout",
     "output_type": "stream",
     "text": [
      "Corpus length: 173428, Vocabulary size: 28\n"
     ]
    }
   ],
   "source": [
    "# Build the corpus and vocabulary\n",
    "corpus, vocab = data.build(raw_text)\n",
    "\n",
    "# Display some information\n",
    "print(f\"Corpus length: {len(corpus)}, Vocabulary size: {len(vocab)}\")"
   ]
  },
  {
   "cell_type": "code",
   "execution_count": 26,
   "id": "588cde5e",
   "metadata": {},
   "outputs": [
    {
     "data": {
      "text/plain": [
       "[('the', 2261),\n",
       " ('i', 1267),\n",
       " ('and', 1245),\n",
       " ('of', 1155),\n",
       " ('a', 816),\n",
       " ('to', 695),\n",
       " ('was', 552),\n",
       " ('in', 541),\n",
       " ('that', 443),\n",
       " ('my', 440)]"
      ]
     },
     "execution_count": 26,
     "metadata": {},
     "output_type": "execute_result"
    }
   ],
   "source": [
    "words = text.split()\n",
    "vocab = Vocab(words)\n",
    "vocab.token_freqs[:10]"
   ]
  },
  {
   "cell_type": "code",
   "execution_count": 27,
   "id": "04f5c12f",
   "metadata": {},
   "outputs": [
    {
     "data": {
      "image/png": "[encoded data removed]",
      "text/plain": [
       "<Figure size 720x432 with 1 Axes>"
      ]
     },
     "metadata": {
      "needs_background": "light"
     },
     "output_type": "display_data"
    }
   ],
   "source": [
    "# Extract frequencies and plot them\n",
    "freqs = [freq for token, freq in vocab.token_freqs]\n",
    "\n",
    "# Plot using matplotlib\n",
    "plt.figure(figsize=(10, 6))\n",
    "plt.loglog(np.arange(1, len(freqs) + 1), freqs)\n",
    "plt.xlabel('token: x')\n",
    "plt.ylabel('frequency: n(x)')\n",
    "plt.title('Token Frequency Distribution')\n",
    "plt.grid(True, alpha=0.3)\n",
    "plt.show()"
   ]
  }
 ],
 "metadata": {
  "kernelspec": {
   "display_name": "Python 3",
   "language": "python",
   "name": "python3"
  },
  "language_info": {
   "codemirror_mode": {
    "name": "ipython",
    "version": 3
   },
   "file_extension": ".py",
   "mimetype": "text/x-python",
   "name": "python",
   "nbconvert_exporter": "python",
   "pygments_lexer": "ipython3",
   "version": "3.10.12"
  }
 },
 "nbformat": 4,
 "nbformat_minor": 5
}
