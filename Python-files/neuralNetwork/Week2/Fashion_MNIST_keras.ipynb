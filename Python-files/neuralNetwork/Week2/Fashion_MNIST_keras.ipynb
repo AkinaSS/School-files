{
 "cells": [
  {
   "cell_type": "code",
   "execution_count": 44,
   "metadata": {},
   "outputs": [
    {
     "data": {
      "text/plain": [
       "'\\nThe MIT License (MIT)\\nCopyright (c) 2021 NVIDIA\\nPermission is hereby granted, free of charge, to any person obtaining a copy of\\nthis software and associated documentation files (the \"Software\"), to deal in\\nthe Software without restriction, including without limitation the rights to\\nuse, copy, modify, merge, publish, distribute, sublicense, and/or sell copies of\\nthe Software, and to permit persons to whom the Software is furnished to do so,\\nsubject to the following conditions:\\nThe above copyright notice and this permission notice shall be included in all\\ncopies or substantial portions of the Software.\\nTHE SOFTWARE IS PROVIDED \"AS IS\", WITHOUT WARRANTY OF ANY KIND, EXPRESS OR\\nIMPLIED, INCLUDING BUT NOT LIMITED TO THE WARRANTIES OF MERCHANTABILITY, FITNESS\\nFOR A PARTICULAR PURPOSE AND NONINFRINGEMENT. IN NO EVENT SHALL THE AUTHORS OR\\nCOPYRIGHT HOLDERS BE LIABLE FOR ANY CLAIM, DAMAGES OR OTHER LIABILITY, WHETHER\\nIN AN ACTION OF CONTRACT, TORT OR OTHERWISE, ARISING FROM, OUT OF OR IN\\nCONNECTION WITH THE SOFTWARE OR THE USE OR OTHER DEALINGS IN THE SOFTWARE.\\n'"
      ]
     },
     "execution_count": 44,
     "metadata": {},
     "output_type": "execute_result"
    }
   ],
   "source": [
    "\"\"\"\n",
    "The MIT License (MIT)\n",
    "Copyright (c) 2021 NVIDIA\n",
    "Permission is hereby granted, free of charge, to any person obtaining a copy of\n",
    "this software and associated documentation files (the \"Software\"), to deal in\n",
    "the Software without restriction, including without limitation the rights to\n",
    "use, copy, modify, merge, publish, distribute, sublicense, and/or sell copies of\n",
    "the Software, and to permit persons to whom the Software is furnished to do so,\n",
    "subject to the following conditions:\n",
    "The above copyright notice and this permission notice shall be included in all\n",
    "copies or substantial portions of the Software.\n",
    "THE SOFTWARE IS PROVIDED \"AS IS\", WITHOUT WARRANTY OF ANY KIND, EXPRESS OR\n",
    "IMPLIED, INCLUDING BUT NOT LIMITED TO THE WARRANTIES OF MERCHANTABILITY, FITNESS\n",
    "FOR A PARTICULAR PURPOSE AND NONINFRINGEMENT. IN NO EVENT SHALL THE AUTHORS OR\n",
    "COPYRIGHT HOLDERS BE LIABLE FOR ANY CLAIM, DAMAGES OR OTHER LIABILITY, WHETHER\n",
    "IN AN ACTION OF CONTRACT, TORT OR OTHERWISE, ARISING FROM, OUT OF OR IN\n",
    "CONNECTION WITH THE SOFTWARE OR THE USE OR OTHER DEALINGS IN THE SOFTWARE.\n",
    "\"\"\""
   ]
  },
  {
   "cell_type": "markdown",
   "metadata": {},
   "source": [
    "This code example loads and explores the MNIST dataset. The dataset first needs to be downloaded and decompressed into the ../data/mnist directory (see README file). More context for this code example can be found in the section \"Exploring the dataset\" in Chapter 4 in the book Learning Deep Learning by Magnus Ekman (ISBN: 9780137470358)."
   ]
  },
  {
   "cell_type": "markdown",
   "metadata": {},
   "source": [
    "The first code snippet shows how we load the files into NumPy arrays and then print the dimensions of these arrays. The file format is not a standard image format, but it is easy to read the files using the idx2numpy library. The dataset is assumed to be in the directory ../data/mnist/hand/."
   ]
  },
  {
   "cell_type": "code",
   "execution_count": 45,
   "metadata": {},
   "outputs": [
    {
     "name": "stdout",
     "output_type": "stream",
     "text": [
      "Train shape: (60000, 28, 28), Test shape: (10000, 28, 28)\n",
      "Train labels: (60000,), Test labels: (10000,)\n"
     ]
    }
   ],
   "source": [
    "import tensorflow as tf\n",
    "\n",
    "(train_images, train_labels), (test_images, test_labels) = tf.keras.datasets.fashion_mnist.load_data()\n",
    "print(f\"Train shape: {train_images.shape}, Test shape: {test_images.shape}\")\n",
    "print(f\"Train labels: {train_labels.shape}, Test labels: {test_labels.shape}\")"
   ]
  },
  {
   "cell_type": "markdown",
   "metadata": {},
   "source": [
    "The next code snippet prints out the first training label and image pattern."
   ]
  },
  {
   "cell_type": "code",
   "execution_count": 46,
   "metadata": {},
   "outputs": [
    {
     "name": "stdout",
     "output_type": "stream",
     "text": [
      "label for first training example:  9\n",
      "---beginning of pattern for first training example---\n",
      "                                                        \n",
      "                                                        \n",
      "                                                        \n",
      "                        *     * *     * *         * *   \n",
      "                        *   * * * * *       * * *     * \n",
      "                        *   * * * * * * *         * *   \n",
      "                            * * * * * * * * * * * * * * \n",
      "                      *   * * * * * * * * * * * * * * * \n",
      "                  * * *   * * * * * * * * * * * * * *   \n",
      "                          * * * * * * * * * * * * * *   \n",
      "                          * * * * * * * * * * * * * *   \n",
      "                  * *   * * * * * * * * * * * * * * * * \n",
      "                    *   * * * * * * * * * * * * * * * * \n",
      "                  *     * * * * * * * * * * * * * * *   \n",
      "    * * * * *           * * * * * * * * * * * * * * *   \n",
      "  *               * * * * * * * * * * * * * * * * * *   \n",
      "        * * * * * * * * * * * * * * * * * * * * * * *   \n",
      "  * * * * * * * * * * * * * * * * * * * * * * * * * *   \n",
      "* * * * * * * * * * * * * * * * * * * * * * * * * * *   \n",
      "* * * * * * * * * * * * * * * * * * * * * * * * * * * * \n",
      "* * * * * * * * * * * * * * * * * * * * * * * * * * * * \n",
      "* * * * * * * * * * * * * * * * * * * * * * * * * * * * \n",
      "  * * * * * * * * * * * * * * * * * * * * * * * * * * * \n",
      "    * * * * * * * * * * * * * * * * * * * * * * * * *   \n",
      "*       * * * * * * * * * * * * * * * * * * * * * *     \n",
      "              * * * * * *                               \n",
      "                                                        \n",
      "                                                        \n",
      "---end of pattern for first training example---\n"
     ]
    }
   ],
   "source": [
    "# Print one training example.\n",
    "print('label for first training example: ', train_labels[0])\n",
    "print('---beginning of pattern for first training example---')\n",
    "for line in train_images[0]:\n",
    "    for num in line:\n",
    "        if num > 0:\n",
    "            print('*', end = ' ')\n",
    "        else:\n",
    "            print(' ', end = ' ')\n",
    "    print('')\n",
    "print('---end of pattern for first training example---')"
   ]
  },
  {
   "cell_type": "markdown",
   "metadata": {},
   "source": [
    "Now we trains the two-level network to classify handwritten digits using the MNIST dataset."
   ]
  },
  {
   "cell_type": "code",
   "execution_count": 47,
   "metadata": {},
   "outputs": [],
   "source": [
    "import matplotlib.pyplot as plt\n",
    "import numpy as np\n",
    "np.random.seed(7) # To make repeatable\n",
    "LEARNING_RATE = 0.01\n",
    "EPOCHS = 20"
   ]
  },
  {
   "cell_type": "markdown",
   "metadata": {},
   "source": [
    "We have also added a function to read the datasets from files, as shown in the next code snippet. To simplify feeding the input data to the network, we reshape the images from two dimensions into a single dimension. That is, the arrays of images are now 2D instead of 3D. After this, we scale the pixel values and center them around 0. This is known as standardizing the data. We first compute the mean and standard deviation of all the training values. We standardize the data by subtracting the mean from each pixel value and dividing by the standard deviation.\n",
    "\n",
    "The next step is to one-hot encode the digit number to be used as a ground truth for our ten-output network. We one-hot encode by creating an array of ten numbers, each being 0 (using the NumPy zeros function), and then set one of them to 1."
   ]
  },
  {
   "cell_type": "code",
   "execution_count": 48,
   "metadata": {},
   "outputs": [
    {
     "name": "stdout",
     "output_type": "stream",
     "text": [
      "y_train shape: (60000, 10)\n",
      "Unique labels in train_labels: [0 1 2 3 4 5 6 7 8 9]\n",
      "Number of classes (should be 10): 10\n"
     ]
    }
   ],
   "source": [
    "# Function to read dataset.\n",
    "def read_mnist(train_images, train_labels, test_images, test_labels):\n",
    "    # Reformat and standardize.\n",
    "    x_train = train_images.reshape(60000, 784)\n",
    "    mean = np.mean(x_train)\n",
    "    stddev = np.std(x_train)\n",
    "    x_train = (x_train - mean) / stddev\n",
    "    x_test = test_images.reshape(10000, 784)\n",
    "    x_test = (x_test - mean) / stddev\n",
    "\n",
    "    # One-hot encoded output.\n",
    "    y_train = np.zeros((60000, 10))\n",
    "    y_test = np.zeros((10000, 10))\n",
    "    for i, y in enumerate(train_labels):\n",
    "        y_train[i][y] = 1\n",
    "    for i, y in enumerate(test_labels):\n",
    "        y_test[i][y] = 1\n",
    "    return x_train, y_train, x_test, y_test\n",
    "\n",
    "# Read train and test examples.\n",
    "x_train, y_train, x_test, y_test = read_mnist(train_images, train_labels, test_images, test_labels)\n",
    "index_list = list(range(len(x_train))) # Used for random order\n",
    "print(\"y_train shape:\", y_train.shape)\n",
    "print(\"Unique labels in train_labels:\", np.unique(train_labels))\n",
    "print(\"Number of classes (should be 10):\", len(np.unique(train_labels)))"
   ]
  },
  {
   "cell_type": "markdown",
   "metadata": {},
   "source": [
    "The next code snippet contains the implementation of the layer weights and the instantiation of the network. It has 25 neurons in the hidden layer and 10 output neurons. Each neuron in the hidden layer will have 784 inputs + bias, and each neuron in the output layer will have 25 inputs + bias. The for loop that initializes the weights starts with j=1 and therefore does not initialize the bias weight but just leaves it at 0 as before."
   ]
  },
  {
   "cell_type": "code",
   "execution_count": 49,
   "metadata": {},
   "outputs": [],
   "source": [
    "def layer_w(neuron_count, input_count):\n",
    "    weights = np.zeros((neuron_count, input_count+1))\n",
    "    for i in range(neuron_count):\n",
    "        for j in range(1, (input_count+1)):\n",
    "            weights[i][j] = np.random.uniform(-0.1, 0.1)\n",
    "    return weights\n",
    "\n",
    "# Declare matrices and vectors representing the neurons.\n",
    "# First hidden layer (e.g., 64 neurons)\n",
    "hidden_layer1_w = layer_w(64, 784)\n",
    "hidden_layer1_y = np.zeros(64)\n",
    "hidden_layer1_error = np.zeros(64)\n",
    "\n",
    "# Second hidden layer (e.g., 32 neurons)\n",
    "hidden_layer2_w = layer_w(32, 64)\n",
    "hidden_layer2_y = np.zeros(32)\n",
    "hidden_layer2_error = np.zeros(32)\n",
    "\n",
    "# Output layer (10 neurons)\n",
    "output_layer_w = layer_w(10, 32)\n",
    "output_layer_y = np.zeros(10)\n",
    "output_layer_error = np.zeros(10)\n"
   ]
  },
  {
   "cell_type": "markdown",
   "metadata": {},
   "source": [
    "The next code snippet shows two functions that are used to report progress and to visualize the learning process. The function show_learning is called multiple times during training; it simply prints the current training and test accuracy and stores these values in two arrays. The function plot_learning is called at the end of the program and uses the two arrays to plot the training and test error (1.0 minus accuracy) over time.\n"
   ]
  },
  {
   "cell_type": "code",
   "execution_count": 50,
   "metadata": {},
   "outputs": [],
   "source": [
    "chart_x = []\n",
    "chart_y_train = []\n",
    "chart_y_test = []\n",
    "def show_learning(epoch_no, train_acc, test_acc):\n",
    "    global chart_x\n",
    "    global chart_y_train\n",
    "    global chart_y_test\n",
    "    print('epoch no:', epoch_no, ', train_acc: ',\n",
    "          '%6.4f' % train_acc,\n",
    "          ', test_acc: ', '%6.4f' % test_acc)\n",
    "    chart_x.append(epoch_no + 1)\n",
    "    chart_y_train.append(1.0 - train_acc)\n",
    "    chart_y_test.append(1.0 - test_acc)\n",
    "\n",
    "def plot_learning():\n",
    "    plt.plot(chart_x, chart_y_train, 'r-',\n",
    "             label='training error')\n",
    "    plt.plot(chart_x, chart_y_test, 'b-',\n",
    "             label='test error')\n",
    "    plt.axis([0, len(chart_x), 0.0, 1.0])\n",
    "    plt.xlabel('training epochs')\n",
    "    plt.ylabel('error')\n",
    "    plt.legend()\n",
    "    plt.show()\n"
   ]
  },
  {
   "cell_type": "markdown",
   "metadata": {},
   "source": [
    "The next code snippet contains the functions for the forward and backward passes as well as for adjusting the weights. The forward_pass and backward_pass functions also implicitly define the topology of the network.\n",
    "\n",
    "The forward_pass function contains two loops. The first one loops over all hidden neurons and presents the same input (the pixels) to them all. It also collects all the outputs of the hidden neurons into an array together with a bias term that can then be used as input to the neurons in the output layer. Similarly, the second loop presents this input to each of the output neurons and collects all the outputs of the output layer into an array that is returned to the caller of the function.\n",
    "\n",
    "The backward_pass function is somewhat similar. It first loops through all the output neurons and computes the derivative of the loss function for each output neuron. In the same loop, it also computes the derivative of the activation function for each neuron. The error term for each neuron can now be calculated by multiplying the derivative of the loss function by the derivative of the activation function. The second loop in the function loops over all hidden neurons. For the hidden neurons, the error term is a little bit more complicated. It is computed as a weighted sum (computed as a dot product) of the backpropagated error from each of the output neurons, multiplied by the derivative of the activation function for the hidden neuron.\n",
    "\n",
    "The adjust_weights function is straightforward, where we again loop over each neuron in each layer and adjust the weights using the input values and error terms.\n"
   ]
  },
  {
   "cell_type": "code",
   "execution_count": 51,
   "metadata": {},
   "outputs": [],
   "source": [
    "def forward_pass(x):\n",
    "    global hidden_layer1_y, hidden_layer2_y, output_layer_y\n",
    "    # First hidden layer\n",
    "    for i, w in enumerate(hidden_layer1_w):\n",
    "        z = np.dot(w, x)\n",
    "        hidden_layer1_y[i] = np.tanh(z)\n",
    "    hidden1_output = np.concatenate((np.array([1.0]), hidden_layer1_y))\n",
    "    # Second hidden layer\n",
    "    for i, w in enumerate(hidden_layer2_w):\n",
    "        z = np.dot(w, hidden1_output)\n",
    "        hidden_layer2_y[i] = np.tanh(z)\n",
    "    hidden2_output = np.concatenate((np.array([1.0]), hidden_layer2_y))\n",
    "    # Output layer\n",
    "    for i, w in enumerate(output_layer_w):\n",
    "        z = np.dot(w, hidden2_output)\n",
    "        output_layer_y[i] = 1.0 / (1.0 + np.exp(-z))\n",
    "\n",
    "def backward_pass(y_truth):\n",
    "    global hidden_layer1_error, hidden_layer2_error, output_layer_error\n",
    "    # Output layer error\n",
    "    for i, y in enumerate(output_layer_y):\n",
    "        error_prime = -(y_truth[i] - y)\n",
    "        derivative = y * (1.0 - y)\n",
    "        output_layer_error[i] = error_prime * derivative\n",
    "    # Second hidden layer error\n",
    "    for i, y in enumerate(hidden_layer2_y):\n",
    "        error_weights = [w[i+1] for w in output_layer_w]\n",
    "        error_weight_array = np.array(error_weights)\n",
    "        derivative = 1.0 - y**2\n",
    "        weighted_error = np.dot(error_weight_array, output_layer_error)\n",
    "        hidden_layer2_error[i] = weighted_error * derivative\n",
    "    # First hidden layer error\n",
    "    for i, y in enumerate(hidden_layer1_y):\n",
    "        error_weights = [w[i+1] for w in hidden_layer2_w]\n",
    "        error_weight_array = np.array(error_weights)\n",
    "        derivative = 1.0 - y**2\n",
    "        weighted_error = np.dot(error_weight_array, hidden_layer2_error)\n",
    "        hidden_layer1_error[i] = weighted_error * derivative\n",
    "\n",
    "def adjust_weights(x):\n",
    "    global output_layer_w, hidden_layer2_w, hidden_layer1_w\n",
    "    # First hidden layer weights\n",
    "    for i, error in enumerate(hidden_layer1_error):\n",
    "        hidden_layer1_w[i] -= (x * LEARNING_RATE * error)\n",
    "    # Second hidden layer weights\n",
    "    hidden1_output = np.concatenate((np.array([1.0]), hidden_layer1_y))\n",
    "    for i, error in enumerate(hidden_layer2_error):\n",
    "        hidden_layer2_w[i] -= (hidden1_output * LEARNING_RATE * error)\n",
    "    # Output layer weights\n",
    "    hidden2_output = np.concatenate((np.array([1.0]), hidden_layer2_y))\n",
    "    for i, error in enumerate(output_layer_error):\n",
    "        output_layer_w[i] -= (hidden2_output * LEARNING_RATE * error)\n",
    "\n"
   ]
  },
  {
   "cell_type": "markdown",
   "metadata": {},
   "source": [
    "The final code snippet shows the network training loop. We train for a fixed number of epochs. An epoch is defined as one iteration through all the training data. For each training example, we do a forward pass followed by a backward pass, and then we adjust the weights. We also track how many of the training examples were correctly predicted. We then loop through all the test examples and just record how many were correctly predicted. We use the NumPy argmax function to identify the array index corresponding to the greatest value; this decodes our one-hot encoded vector into an integer number. Before passing the input examples to forward_pass and adjust_weights, we extend each array with a leading 1.0 because these functions expect a bias term of 1.0 as the first entry in the array.\n",
    "\n",
    "We do not do any backward pass or weight adjustments for the test data. The reason for this is that we are not allowed to train on the test data because that will result in an optimistic assessment of how well the network works. At the end of each epoch, we print out the current accuracy for both the training data and the test data.\n"
   ]
  },
  {
   "cell_type": "code",
   "execution_count": 52,
   "metadata": {},
   "outputs": [
    {
     "name": "stdout",
     "output_type": "stream",
     "text": [
      "epoch no: 0 , train_acc:  0.7778 , test_acc:  0.8378\n",
      "epoch no: 1 , train_acc:  0.8556 , test_acc:  0.8502\n",
      "epoch no: 2 , train_acc:  0.8697 , test_acc:  0.8614\n",
      "epoch no: 3 , train_acc:  0.8783 , test_acc:  0.8588\n",
      "epoch no: 4 , train_acc:  0.8844 , test_acc:  0.8654\n",
      "epoch no: 5 , train_acc:  0.8887 , test_acc:  0.8668\n",
      "epoch no: 6 , train_acc:  0.8916 , test_acc:  0.8564\n",
      "epoch no: 7 , train_acc:  0.8948 , test_acc:  0.8673\n",
      "epoch no: 8 , train_acc:  0.8976 , test_acc:  0.8675\n",
      "epoch no: 9 , train_acc:  0.9009 , test_acc:  0.8674\n",
      "epoch no: 10 , train_acc:  0.9025 , test_acc:  0.8702\n",
      "epoch no: 11 , train_acc:  0.9048 , test_acc:  0.8748\n",
      "epoch no: 12 , train_acc:  0.9070 , test_acc:  0.8739\n",
      "epoch no: 13 , train_acc:  0.9095 , test_acc:  0.8726\n",
      "epoch no: 14 , train_acc:  0.9102 , test_acc:  0.8729\n",
      "epoch no: 15 , train_acc:  0.9122 , test_acc:  0.8676\n",
      "epoch no: 16 , train_acc:  0.9143 , test_acc:  0.8752\n",
      "epoch no: 17 , train_acc:  0.9134 , test_acc:  0.8716\n",
      "epoch no: 18 , train_acc:  0.9160 , test_acc:  0.8679\n",
      "epoch no: 19 , train_acc:  0.9178 , test_acc:  0.8685\n"
     ]
    },
    {
     "data": {
      "image/png": "[encoded data removed]",
      "text/plain": [
       "<Figure size 432x288 with 1 Axes>"
      ]
     },
     "metadata": {
      "needs_background": "light"
     },
     "output_type": "display_data"
    }
   ],
   "source": [
    "# Network training loop.\n",
    "for i in range(EPOCHS): # Train EPOCHS iterations\n",
    "    np.random.shuffle(index_list) # Randomize order\n",
    "    correct_training_results = 0\n",
    "    for j in index_list: # Train on all examples\n",
    "        x = np.concatenate((np.array([1.0]), x_train[j]))\n",
    "        forward_pass(x)\n",
    "        if output_layer_y.argmax() == y_train[j].argmax():\n",
    "            correct_training_results += 1\n",
    "        backward_pass(y_train[j])\n",
    "        adjust_weights(x)\n",
    "\n",
    "    correct_test_results = 0\n",
    "    for j in range(len(x_test)): # Evaluate network\n",
    "        x = np.concatenate((np.array([1.0]), x_test[j]))\n",
    "        forward_pass(x)\n",
    "        if output_layer_y.argmax() == y_test[j].argmax():\n",
    "            correct_test_results += 1\n",
    "    # Show progress.\n",
    "    show_learning(i, correct_training_results/len(x_train),\n",
    "                  correct_test_results/len(x_test))\n",
    "plot_learning() # Create plot\n"
   ]
  }
 ],
 "metadata": {
  "kernelspec": {
   "display_name": "Python 3",
   "language": "python",
   "name": "python3"
  },
  "language_info": {
   "codemirror_mode": {
    "name": "ipython",
    "version": 3
   },
   "file_extension": ".py",
   "mimetype": "text/x-python",
   "name": "python",
   "nbconvert_exporter": "python",
   "pygments_lexer": "ipython3",
   "version": "3.10.12"
  }
 },
 "nbformat": 4,
 "nbformat_minor": 2
}
